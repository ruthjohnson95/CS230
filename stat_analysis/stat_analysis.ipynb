{
 "cells": [
  {
   "cell_type": "markdown",
   "metadata": {},
   "source": [
    "# Stat Analysis"
   ]
  },
  {
   "cell_type": "code",
   "execution_count": 88,
   "metadata": {},
   "outputs": [],
   "source": [
    "import pandas as pd\n",
    "import os\n",
    "import numpy as np \n",
    "import statsmodels.formula.api as smf\n",
    "import seaborn as sns \n",
    "import matplotlib.pyplot as plt \n",
    "import scipy.stats as st "
   ]
  },
  {
   "cell_type": "code",
   "execution_count": 199,
   "metadata": {},
   "outputs": [
    {
     "data": {
      "text/plain": [
       "0      0.0\n",
       "1      0.0\n",
       "2      6.0\n",
       "3      0.0\n",
       "4    105.0\n",
       "Name: BANDIT_MED_HIGH, dtype: float64"
      ]
     },
     "execution_count": 199,
     "metadata": {},
     "output_type": "execute_result"
    }
   ],
   "source": [
    "# read in combined dataframe\n",
    "combo_df = pd.read_csv(\"combined_df.txt\")\n",
    "\n",
    "# rename first column to name of benchmarks \n",
    "combo_df.rename(columns={'Unnamed: 0':'Benchmark'}, inplace=True)\n",
    "\n",
    "# drop informational messages\n",
    "combo_df = combo_df.drop(['I'], axis=1)\n",
    "\n",
    "# drop fatal error messages\n",
    "combo_df = combo_df.drop(['F'], axis=1)\n",
    "\n",
    "# turn Nan to zero\n",
    "combo_df = combo_df.fillna(0)\n",
    "\n",
    "# print first few lines of dataframe \n",
    "combo_df.head()\n",
    "\n",
    "# combine high and medium severity counts\n",
    "combo_df['BANDIT_MED_HIGH'] = combo_df['TOTAL_BANDIT'].subtract(combo_df['LOW_SEVERITY'])\n",
    "\n",
    "combo_df['BANDIT_MED_HIGH'][:5]"
   ]
  },
  {
   "cell_type": "markdown",
   "metadata": {},
   "source": [
    "# Step 1: Overview of data\n",
    "- i) Distribution of Pylint types of errors\n",
    "- ii) Distribution of types of security vulnerabilities\n",
    "- iii) Distribution of security vulnerabilties by severity "
   ]
  },
  {
   "cell_type": "markdown",
   "metadata": {},
   "source": [
    "## i. Distribution of Pylint types of errors"
   ]
  },
  {
   "cell_type": "code",
   "execution_count": 200,
   "metadata": {},
   "outputs": [
    {
     "data": {
      "image/png": "[encoded data removed]",
      "text/plain": [
       "<Figure size 432x288 with 1 Axes>"
      ]
     },
     "metadata": {
      "needs_background": "light"
     },
     "output_type": "display_data"
    },
    {
     "name": "stdout",
     "output_type": "stream",
     "text": [
      "  TYPE        COUNT\n",
      "R    R       122547\n",
      "C    C  1.33514e+06\n",
      "W    W       364891\n",
      "E    E       137660\n"
     ]
    }
   ],
   "source": [
    "sum_col = combo_df.apply('sum')\n",
    "pylint_count = sum_col.filter(items=['I', 'R','C','W','E','F'])\n",
    "pylint_count_df = pd.DataFrame({'TYPE': pylint_count.index, 'COUNT': pylint_count})\n",
    "\n",
    "g = sns.barplot(x=\"TYPE\", y=\"COUNT\", data=pylint_count_df, palette='Set1')\n",
    "plt.title(\"Types of programatic/stylistic errors\")\n",
    "plt.show()\n",
    "plt.close()\n",
    "\n",
    "print(pylint_count_df)"
   ]
  },
  {
   "cell_type": "markdown",
   "metadata": {},
   "source": [
    "## ii) Distribution of types of security vulnerabilities"
   ]
  },
  {
   "cell_type": "code",
   "execution_count": 201,
   "metadata": {},
   "outputs": [
    {
     "data": {
      "text/html": [
       "<div>\n",
       "<style scoped>\n",
       "    .dataframe tbody tr th:only-of-type {\n",
       "        vertical-align: middle;\n",
       "    }\n",
       "\n",
       "    .dataframe tbody tr th {\n",
       "        vertical-align: top;\n",
       "    }\n",
       "\n",
       "    .dataframe thead th {\n",
       "        text-align: right;\n",
       "    }\n",
       "</style>\n",
       "<table border=\"1\" class=\"dataframe\">\n",
       "  <thead>\n",
       "    <tr style=\"text-align: right;\">\n",
       "      <th></th>\n",
       "      <th>TYPE</th>\n",
       "      <th>COUNT</th>\n",
       "    </tr>\n",
       "  </thead>\n",
       "  <tbody>\n",
       "    <tr>\n",
       "      <th>B101</th>\n",
       "      <td>B101</td>\n",
       "      <td>53390</td>\n",
       "    </tr>\n",
       "    <tr>\n",
       "      <th>B102</th>\n",
       "      <td>B102</td>\n",
       "      <td>212</td>\n",
       "    </tr>\n",
       "    <tr>\n",
       "      <th>B103</th>\n",
       "      <td>B103</td>\n",
       "      <td>29</td>\n",
       "    </tr>\n",
       "    <tr>\n",
       "      <th>B104</th>\n",
       "      <td>B104</td>\n",
       "      <td>220</td>\n",
       "    </tr>\n",
       "    <tr>\n",
       "      <th>B105</th>\n",
       "      <td>B105</td>\n",
       "      <td>915</td>\n",
       "    </tr>\n",
       "    <tr>\n",
       "      <th>B106</th>\n",
       "      <td>B106</td>\n",
       "      <td>852</td>\n",
       "    </tr>\n",
       "    <tr>\n",
       "      <th>B107</th>\n",
       "      <td>B107</td>\n",
       "      <td>55</td>\n",
       "    </tr>\n",
       "    <tr>\n",
       "      <th>B108</th>\n",
       "      <td>B108</td>\n",
       "      <td>653</td>\n",
       "    </tr>\n",
       "    <tr>\n",
       "      <th>B109</th>\n",
       "      <td>B109</td>\n",
       "      <td>0</td>\n",
       "    </tr>\n",
       "    <tr>\n",
       "      <th>B110</th>\n",
       "      <td>B110</td>\n",
       "      <td>1074</td>\n",
       "    </tr>\n",
       "    <tr>\n",
       "      <th>B111</th>\n",
       "      <td>B111</td>\n",
       "      <td>0</td>\n",
       "    </tr>\n",
       "    <tr>\n",
       "      <th>B112</th>\n",
       "      <td>B112</td>\n",
       "      <td>33</td>\n",
       "    </tr>\n",
       "    <tr>\n",
       "      <th>B201</th>\n",
       "      <td>B201</td>\n",
       "      <td>15</td>\n",
       "    </tr>\n",
       "    <tr>\n",
       "      <th>B301</th>\n",
       "      <td>B301</td>\n",
       "      <td>243</td>\n",
       "    </tr>\n",
       "    <tr>\n",
       "      <th>B302</th>\n",
       "      <td>B302</td>\n",
       "      <td>20</td>\n",
       "    </tr>\n",
       "    <tr>\n",
       "      <th>B303</th>\n",
       "      <td>B303</td>\n",
       "      <td>507</td>\n",
       "    </tr>\n",
       "    <tr>\n",
       "      <th>B304</th>\n",
       "      <td>B304</td>\n",
       "      <td>11</td>\n",
       "    </tr>\n",
       "    <tr>\n",
       "      <th>B305</th>\n",
       "      <td>B305</td>\n",
       "      <td>0</td>\n",
       "    </tr>\n",
       "    <tr>\n",
       "      <th>B306</th>\n",
       "      <td>B306</td>\n",
       "      <td>59</td>\n",
       "    </tr>\n",
       "    <tr>\n",
       "      <th>B307</th>\n",
       "      <td>B307</td>\n",
       "      <td>270</td>\n",
       "    </tr>\n",
       "    <tr>\n",
       "      <th>B308</th>\n",
       "      <td>B308</td>\n",
       "      <td>190</td>\n",
       "    </tr>\n",
       "    <tr>\n",
       "      <th>B309</th>\n",
       "      <td>B309</td>\n",
       "      <td>23</td>\n",
       "    </tr>\n",
       "    <tr>\n",
       "      <th>B310</th>\n",
       "      <td>B310</td>\n",
       "      <td>379</td>\n",
       "    </tr>\n",
       "    <tr>\n",
       "      <th>B311</th>\n",
       "      <td>B311</td>\n",
       "      <td>803</td>\n",
       "    </tr>\n",
       "    <tr>\n",
       "      <th>B312</th>\n",
       "      <td>B312</td>\n",
       "      <td>69</td>\n",
       "    </tr>\n",
       "    <tr>\n",
       "      <th>B313</th>\n",
       "      <td>B313</td>\n",
       "      <td>4</td>\n",
       "    </tr>\n",
       "    <tr>\n",
       "      <th>B314</th>\n",
       "      <td>B314</td>\n",
       "      <td>68</td>\n",
       "    </tr>\n",
       "    <tr>\n",
       "      <th>B315</th>\n",
       "      <td>B315</td>\n",
       "      <td>0</td>\n",
       "    </tr>\n",
       "    <tr>\n",
       "      <th>B316</th>\n",
       "      <td>B316</td>\n",
       "      <td>0</td>\n",
       "    </tr>\n",
       "    <tr>\n",
       "      <th>B317</th>\n",
       "      <td>B317</td>\n",
       "      <td>11</td>\n",
       "    </tr>\n",
       "    <tr>\n",
       "      <th>...</th>\n",
       "      <td>...</td>\n",
       "      <td>...</td>\n",
       "    </tr>\n",
       "    <tr>\n",
       "      <th>B405</th>\n",
       "      <td>B405</td>\n",
       "      <td>150</td>\n",
       "    </tr>\n",
       "    <tr>\n",
       "      <th>B406</th>\n",
       "      <td>B406</td>\n",
       "      <td>98</td>\n",
       "    </tr>\n",
       "    <tr>\n",
       "      <th>B407</th>\n",
       "      <td>B407</td>\n",
       "      <td>2</td>\n",
       "    </tr>\n",
       "    <tr>\n",
       "      <th>B408</th>\n",
       "      <td>B408</td>\n",
       "      <td>62</td>\n",
       "    </tr>\n",
       "    <tr>\n",
       "      <th>B409</th>\n",
       "      <td>B409</td>\n",
       "      <td>7</td>\n",
       "    </tr>\n",
       "    <tr>\n",
       "      <th>B410</th>\n",
       "      <td>B410</td>\n",
       "      <td>247</td>\n",
       "    </tr>\n",
       "    <tr>\n",
       "      <th>B411</th>\n",
       "      <td>B411</td>\n",
       "      <td>39</td>\n",
       "    </tr>\n",
       "    <tr>\n",
       "      <th>B412</th>\n",
       "      <td>B412</td>\n",
       "      <td>12</td>\n",
       "    </tr>\n",
       "    <tr>\n",
       "      <th>B413</th>\n",
       "      <td>B413</td>\n",
       "      <td>782</td>\n",
       "    </tr>\n",
       "    <tr>\n",
       "      <th>B501</th>\n",
       "      <td>B501</td>\n",
       "      <td>8</td>\n",
       "    </tr>\n",
       "    <tr>\n",
       "      <th>B502</th>\n",
       "      <td>B502</td>\n",
       "      <td>24</td>\n",
       "    </tr>\n",
       "    <tr>\n",
       "      <th>B503</th>\n",
       "      <td>B503</td>\n",
       "      <td>0</td>\n",
       "    </tr>\n",
       "    <tr>\n",
       "      <th>B504</th>\n",
       "      <td>B504</td>\n",
       "      <td>105</td>\n",
       "    </tr>\n",
       "    <tr>\n",
       "      <th>B505</th>\n",
       "      <td>B505</td>\n",
       "      <td>16</td>\n",
       "    </tr>\n",
       "    <tr>\n",
       "      <th>B506</th>\n",
       "      <td>B506</td>\n",
       "      <td>88</td>\n",
       "    </tr>\n",
       "    <tr>\n",
       "      <th>B507</th>\n",
       "      <td>B507</td>\n",
       "      <td>0</td>\n",
       "    </tr>\n",
       "    <tr>\n",
       "      <th>B601</th>\n",
       "      <td>B601</td>\n",
       "      <td>9</td>\n",
       "    </tr>\n",
       "    <tr>\n",
       "      <th>B602</th>\n",
       "      <td>B602</td>\n",
       "      <td>166</td>\n",
       "    </tr>\n",
       "    <tr>\n",
       "      <th>B603</th>\n",
       "      <td>B603</td>\n",
       "      <td>1054</td>\n",
       "    </tr>\n",
       "    <tr>\n",
       "      <th>B604</th>\n",
       "      <td>B604</td>\n",
       "      <td>0</td>\n",
       "    </tr>\n",
       "    <tr>\n",
       "      <th>B605</th>\n",
       "      <td>B605</td>\n",
       "      <td>223</td>\n",
       "    </tr>\n",
       "    <tr>\n",
       "      <th>B606</th>\n",
       "      <td>B606</td>\n",
       "      <td>61</td>\n",
       "    </tr>\n",
       "    <tr>\n",
       "      <th>B607</th>\n",
       "      <td>B607</td>\n",
       "      <td>371</td>\n",
       "    </tr>\n",
       "    <tr>\n",
       "      <th>B608</th>\n",
       "      <td>B608</td>\n",
       "      <td>211</td>\n",
       "    </tr>\n",
       "    <tr>\n",
       "      <th>B609</th>\n",
       "      <td>B609</td>\n",
       "      <td>0</td>\n",
       "    </tr>\n",
       "    <tr>\n",
       "      <th>B610</th>\n",
       "      <td>B610</td>\n",
       "      <td>22</td>\n",
       "    </tr>\n",
       "    <tr>\n",
       "      <th>B611</th>\n",
       "      <td>B611</td>\n",
       "      <td>0</td>\n",
       "    </tr>\n",
       "    <tr>\n",
       "      <th>B701</th>\n",
       "      <td>B701</td>\n",
       "      <td>146</td>\n",
       "    </tr>\n",
       "    <tr>\n",
       "      <th>B702</th>\n",
       "      <td>B702</td>\n",
       "      <td>60</td>\n",
       "    </tr>\n",
       "    <tr>\n",
       "      <th>B703</th>\n",
       "      <td>B703</td>\n",
       "      <td>177</td>\n",
       "    </tr>\n",
       "  </tbody>\n",
       "</table>\n",
       "<p>72 rows × 2 columns</p>\n",
       "</div>"
      ],
      "text/plain": [
       "      TYPE  COUNT\n",
       "B101  B101  53390\n",
       "B102  B102    212\n",
       "B103  B103     29\n",
       "B104  B104    220\n",
       "B105  B105    915\n",
       "B106  B106    852\n",
       "B107  B107     55\n",
       "B108  B108    653\n",
       "B109  B109      0\n",
       "B110  B110   1074\n",
       "B111  B111      0\n",
       "B112  B112     33\n",
       "B201  B201     15\n",
       "B301  B301    243\n",
       "B302  B302     20\n",
       "B303  B303    507\n",
       "B304  B304     11\n",
       "B305  B305      0\n",
       "B306  B306     59\n",
       "B307  B307    270\n",
       "B308  B308    190\n",
       "B309  B309     23\n",
       "B310  B310    379\n",
       "B311  B311    803\n",
       "B312  B312     69\n",
       "B313  B313      4\n",
       "B314  B314     68\n",
       "B315  B315      0\n",
       "B316  B316      0\n",
       "B317  B317     11\n",
       "...    ...    ...\n",
       "B405  B405    150\n",
       "B406  B406     98\n",
       "B407  B407      2\n",
       "B408  B408     62\n",
       "B409  B409      7\n",
       "B410  B410    247\n",
       "B411  B411     39\n",
       "B412  B412     12\n",
       "B413  B413    782\n",
       "B501  B501      8\n",
       "B502  B502     24\n",
       "B503  B503      0\n",
       "B504  B504    105\n",
       "B505  B505     16\n",
       "B506  B506     88\n",
       "B507  B507      0\n",
       "B601  B601      9\n",
       "B602  B602    166\n",
       "B603  B603   1054\n",
       "B604  B604      0\n",
       "B605  B605    223\n",
       "B606  B606     61\n",
       "B607  B607    371\n",
       "B608  B608    211\n",
       "B609  B609      0\n",
       "B610  B610     22\n",
       "B611  B611      0\n",
       "B701  B701    146\n",
       "B702  B702     60\n",
       "B703  B703    177\n",
       "\n",
       "[72 rows x 2 columns]"
      ]
     },
     "execution_count": 201,
     "metadata": {},
     "output_type": "execute_result"
    },
    {
     "data": {
      "image/png": "[encoded data removed]",
      "text/plain": [
       "<Figure size 432x288 with 1 Axes>"
      ]
     },
     "metadata": {
      "needs_background": "light"
     },
     "output_type": "display_data"
    }
   ],
   "source": [
    "# List of bandit tests from https://github.com/PyCQA/bandit\n",
    "test_ids = [\"B101\", \"B102\", \"B103\", \"B104\", \"B105\", \"B106\", \"B107\", \"B108\", \"B109\", \"B110\", \"B111\", \"B112\"]\n",
    "test_ids += [\"B201\"]\n",
    "test_ids += [\"B301\", \"B302\", \"B303\", \"B304\", \"B305\", \"B306\", \"B307\", \"B308\", \"B309\", \"B310\"]\n",
    "test_ids += [\"B311\", \"B312\", \"B313\", \"B314\", \"B315\", \"B316\", \"B317\", \"B318\", \"B319\", \"B320\"]\n",
    "test_ids += [\"B321\", \"B322\", \"B323\", \"B324\", \"B325\"]\n",
    "test_ids += [\"B401\", \"B402\", \"B403\", \"B404\", \"B405\", \"B406\", \"B407\", \"B408\", \"B409\", \"B410\", \"B411\", \"B412\", \"B413\"]\n",
    "test_ids += [\"B501\", \"B502\", \"B503\", \"B504\", \"B505\", \"B506\", \"B507\"]\n",
    "test_ids += [\"B601\", \"B602\", \"B603\", \"B604\", \"B605\", \"B606\", \"B607\", \"B608\", \"B609\", \"B610\", \"B611\"]\n",
    "test_ids += [\"B701\", \"B702\", \"B703\"]\n",
    "\n",
    "sum_col = combo_df.apply('sum')\n",
    "bandit_count = sum_col.filter(items=test_ids)\n",
    "bandit_count_df = pd.DataFrame({'TYPE': bandit_count.index, 'COUNT': bandit_count})\n",
    "#pylint_count_df = pylint_count_df[pylint_count_df['COUNT'] != 0]\n",
    "\n",
    "g = sns.barplot(x=\"TYPE\", y=\"COUNT\", data=bandit_count_df, palette='Set1')\n",
    "plt.title(\"Types of security vulnerabilities\")\n",
    "bandit_count_df"
   ]
  },
  {
   "cell_type": "markdown",
   "metadata": {},
   "source": [
    "## Top 10 types of security vulneratbilities"
   ]
  },
  {
   "cell_type": "code",
   "execution_count": 202,
   "metadata": {},
   "outputs": [
    {
     "data": {
      "text/plain": [
       "B101    53390\n",
       "B110     1074\n",
       "B603     1054\n",
       "B105      915\n",
       "B106      852\n",
       "B311      803\n",
       "B413      782\n",
       "B108      653\n",
       "B404      590\n",
       "B303      507\n",
       "dtype: object"
      ]
     },
     "execution_count": 202,
     "metadata": {},
     "output_type": "execute_result"
    }
   ],
   "source": [
    "sorted_bandit_count = bandit_count.sort_values(ascending=False)\n",
    "sorted_bandit_count[:10]\n",
    "# assert used\n",
    "# try_except_pass\n",
    "# subprocess_without_shell_equals_true\n",
    "# hardcoded_password_string\n",
    "# hardcoded_password_funcarg\n",
    "# random\n",
    "# import_pycrypto\n",
    "# hardcoded_tmp_directory\n",
    "# import_subprocess\n",
    "# md5"
   ]
  },
  {
   "cell_type": "code",
   "execution_count": 203,
   "metadata": {},
   "outputs": [
    {
     "name": "stdout",
     "output_type": "stream",
     "text": [
      "444      pycryptodome-3.6.5\n",
      "443            pycrypto-2.5\n",
      "313            gevent-1.1.2\n",
      "29             Jinja2-2.7.1\n",
      "58               Pyro4-4.71\n",
      "359         mercurial-4.1.2\n",
      "321    homeassistant-0.36.1\n",
      "4              CLAM-0.9.9.1\n",
      "525          tendenci-7.5.2\n",
      "332           ipython-3.2.1\n",
      "Name: Benchmark, dtype: object\n",
      "443          pycrypto-2.5\n",
      "29           Jinja2-2.7.1\n",
      "446       pyftpdlib-0.2.0\n",
      "473     python-jose-1.3.1\n",
      "437     pyXMLSecurity-0.8\n",
      "531             tmc-0.3.4\n",
      "444    pycryptodome-3.6.5\n",
      "58             Pyro4-4.71\n",
      "488           rauth-0.6.2\n",
      "112         bakercm-0.4.3\n",
      "Name: Benchmark, dtype: object\n"
     ]
    }
   ],
   "source": [
    "# which programs had most high severity issues\n",
    "high_severity_bandit_df = combo_df.sort_values(by='HIGH_SEVERITY', ascending=False)\n",
    "print(high_severity_bandit_df['Benchmark'][:10])\n",
    "\n",
    "high_severity_bandit_df['HIGH_SEVERITY_NORM'] = high_severity_bandit_df['HIGH_SEVERITY'].divide(high_severity_bandit_df['BENCHMARK_SIZE'])\n",
    "high_severity_bandit_df = high_severity_bandit_df.sort_values(by='HIGH_SEVERITY_NORM', ascending=False)\n",
    "print(high_severity_bandit_df['Benchmark'][:10])\n",
    "\n",
    "# --> be careful using any types of security, crypto, networking-related libraries "
   ]
  },
  {
   "cell_type": "code",
   "execution_count": 205,
   "metadata": {},
   "outputs": [
    {
     "name": "stdout",
     "output_type": "stream",
     "text": [
      "r^2: 0.2224 (2.072e-29)\n"
     ]
    },
    {
     "data": {
      "image/png": "[encoded data removed]",
      "text/plain": [
       "<Figure size 432x288 with 1 Axes>"
      ]
     },
     "metadata": {
      "needs_background": "light"
     },
     "output_type": "display_data"
    }
   ],
   "source": [
    "# B110, B303\n",
    "model = smf.ols('B101 ~ R + C + W + E', data=combo_df).fit()\n",
    "summary = model.summary()\n",
    "#print(summary)\n",
    "r_square = model.rsquared\n",
    "p_value = model.f_pvalue\n",
    "\n",
    "print(\"r^2: %.4g (%.4g)\" % (r_square, p_value))\n",
    "\n",
    "sns.scatterplot(x='TOTAL_PYLINT', y='B101', data=combo_df, palette='Set1')\n",
    "plt.show()"
   ]
  },
  {
   "cell_type": "markdown",
   "metadata": {},
   "source": [
    "# iii) Distribution of security vulnerabilties by severity"
   ]
  },
  {
   "cell_type": "code",
   "execution_count": 206,
   "metadata": {},
   "outputs": [
    {
     "data": {
      "image/png": "[encoded data removed]",
      "text/plain": [
       "<Figure size 432x288 with 1 Axes>"
      ]
     },
     "metadata": {
      "needs_background": "light"
     },
     "output_type": "display_data"
    },
    {
     "name": "stdout",
     "output_type": "stream",
     "text": [
      "                        TYPE  COUNT\n",
      "LOW_SEVERITY    LOW_SEVERITY  60266\n",
      "MED_SEVERITY    MED_SEVERITY   3754\n",
      "HIGH_SEVERITY  HIGH_SEVERITY   1560\n"
     ]
    }
   ],
   "source": [
    "sum_col = combo_df.apply('sum')\n",
    "pylint_count = sum_col.filter(items=['LOW_SEVERITY', 'MED_SEVERITY', 'HIGH_SEVERITY'])\n",
    "pylint_count_df = pd.DataFrame({'TYPE': pylint_count.index, 'COUNT': pylint_count})\n",
    "\n",
    "g = sns.barplot(x=\"TYPE\", y=\"COUNT\", data=pylint_count_df, palette='Set1')\n",
    "plt.title(\"Types of programatic/stylistic errors\")\n",
    "plt.show()\n",
    "plt.close()\n",
    "\n",
    "print(pylint_count_df)"
   ]
  },
  {
   "cell_type": "markdown",
   "metadata": {},
   "source": [
    "# Step 2: Relationship between total errors and total vulnerabilities\n",
    "- i) vanilla linear regression\n",
    "- ii) multivariate regression by type of error\n",
    "- iii) regression by severity \n",
    "- iv) different types of severity driven by types of errors\n",
    "- v) looking into outliers"
   ]
  },
  {
   "cell_type": "code",
   "execution_count": 207,
   "metadata": {},
   "outputs": [
    {
     "name": "stdout",
     "output_type": "stream",
     "text": [
      "r^2: 0.04609 (2.706e-07)\n",
      "rho: 0.2147 (2.706e-07)\n"
     ]
    },
    {
     "data": {
      "image/png": "[encoded data removed]",
      "text/plain": [
       "<Figure size 432x288 with 1 Axes>"
      ]
     },
     "metadata": {
      "needs_background": "light"
     },
     "output_type": "display_data"
    },
    {
     "name": "stdout",
     "output_type": "stream",
     "text": [
      "          Benchmark       R        C       W        E  TOTAL_PYLINT     B101  \\\n",
      "106  astropy-2.0.12  3283.0  23634.0  7233.0  10317.0       44467.0  12099.0   \n",
      "\n",
      "     B102  B103  B104  ...  LOW_SEVERITY_INTERSECTIONS  \\\n",
      "106   7.0   0.0   0.0  ...                      3031.0   \n",
      "\n",
      "     MED_SEVERITY_INTERSECTIONS  PYLINT_C_INTERSECTIONS  \\\n",
      "106                        31.0                   740.0   \n",
      "\n",
      "     PYLINT_E_INTERSECTIONS  PYLINT_F_INTERSECTIONS  PYLINT_I_INTERSECTIONS  \\\n",
      "106                  1732.0                     0.0                     0.0   \n",
      "\n",
      "     PYLINT_R_INTERSECTIONS  PYLINT_W_INTERSECTIONS  TOTAL_INTERSECTIONS  \\\n",
      "106                     1.0                   589.0               3062.0   \n",
      "\n",
      "     BANDIT_MED_HIGH  \n",
      "106             55.0  \n",
      "\n",
      "[1 rows x 94 columns]\n"
     ]
    }
   ],
   "source": [
    "slope, intercept, r_square, p_value, std_err = st.linregress(x=combo_df['TOTAL_PYLINT'].values, y=combo_df['TOTAL_BANDIT'].values)\n",
    "x = np.arange(1,150000)\n",
    "y = slope*x+intercept\n",
    "\n",
    "model = smf.ols('TOTAL_BANDIT ~ TOTAL_PYLINT', data=combo_df).fit()\n",
    "summary = model.summary()\n",
    "#print(summary)\n",
    "r_square = model.rsquared\n",
    "p_value = model.f_pvalue\n",
    "\n",
    "corr_coef, rho_pvalue = st.pearsonr(combo_df['TOTAL_PYLINT'].values, combo_df['TOTAL_BANDIT'].values)\n",
    "\n",
    "print(\"r^2: %.4g (%.4g)\" % (r_square, p_value))\n",
    "print(\"rho: %.4g (%.4g)\" % (corr_coef, rho_pvalue))\n",
    "\n",
    "sns.scatterplot(x='TOTAL_PYLINT', y='TOTAL_BANDIT', data=combo_df, palette='Set1')\n",
    "plt.plot(x, y, linestyle='--', color='black')\n",
    "plt.ylim(-500.0)\n",
    "plt.xlim(0, 120000)\n",
    "plt.show()\n",
    "\n",
    "print(combo_df.loc[combo_df['TOTAL_BANDIT'] > 12000])"
   ]
  },
  {
   "cell_type": "code",
   "execution_count": 168,
   "metadata": {},
   "outputs": [
    {
     "name": "stdout",
     "output_type": "stream",
     "text": [
      "r^2: 0.0357 (6.364e-06)\n",
      "rho: 0.1889 (6.364e-06)\n"
     ]
    },
    {
     "data": {
      "image/png": "[encoded data removed]",
      "text/plain": [
       "<Figure size 432x288 with 1 Axes>"
      ]
     },
     "metadata": {
      "needs_background": "light"
     },
     "output_type": "display_data"
    },
    {
     "name": "stdout",
     "output_type": "stream",
     "text": [
      "          Benchmark       R        C       W        E    F  TOTAL_PYLINT  \\\n",
      "106  astropy-2.0.12  3283.0  23634.0  7233.0  10317.0  0.0       44467.0   \n",
      "\n",
      "        B101  B102  B103  ...  LOW_SEVERITY_INTERSECTIONS  \\\n",
      "106  12099.0   7.0   0.0  ...                      3031.0   \n",
      "\n",
      "     MED_SEVERITY_INTERSECTIONS  PYLINT_C_INTERSECTIONS  \\\n",
      "106                        31.0                   740.0   \n",
      "\n",
      "     PYLINT_E_INTERSECTIONS  PYLINT_F_INTERSECTIONS  PYLINT_I_INTERSECTIONS  \\\n",
      "106                  1732.0                     0.0                     0.0   \n",
      "\n",
      "     PYLINT_R_INTERSECTIONS  PYLINT_W_INTERSECTIONS  TOTAL_INTERSECTIONS  \\\n",
      "106                     1.0                   589.0               3062.0   \n",
      "\n",
      "     BANDIT_MED_HIGH  \n",
      "106             55.0  \n",
      "\n",
      "[1 rows x 95 columns]\n"
     ]
    }
   ],
   "source": [
    "# only look at med/high severity security errors \n",
    "model = smf.ols('BANDIT_MED_HIGH ~ TOTAL_PYLINT', data=combo_df).fit()\n",
    "summary = model.summary()\n",
    "#print(summary)\n",
    "r_square = model.rsquared\n",
    "p_value = model.f_pvalue\n",
    "\n",
    "corr_coef, rho_pvalue = st.pearsonr(combo_df['TOTAL_PYLINT'].values, combo_df['BANDIT_MED_HIGH'].values)\n",
    "\n",
    "print(\"r^2: %.4g (%.4g)\" % (r_square, p_value))\n",
    "print(\"rho: %.4g (%.4g)\" % (corr_coef, rho_pvalue))\n",
    "\n",
    "sns.scatterplot(x='TOTAL_PYLINT', y='BANDIT_MED_HIGH', data=combo_df, palette='Set1')\n",
    "plt.show()\n",
    "\n",
    "print(combo_df.loc[combo_df['TOTAL_BANDIT'] > 12000])"
   ]
  },
  {
   "cell_type": "markdown",
   "metadata": {},
   "source": [
    "## ii) multivariate regression by type of error"
   ]
  },
  {
   "cell_type": "code",
   "execution_count": 209,
   "metadata": {},
   "outputs": [
    {
     "name": "stdout",
     "output_type": "stream",
     "text": [
      "                            OLS Regression Results                            \n",
      "==============================================================================\n",
      "Dep. Variable:           TOTAL_BANDIT   R-squared:                       0.235\n",
      "Model:                            OLS   Adj. R-squared:                  0.230\n",
      "Method:                 Least Squares   F-statistic:                     42.92\n",
      "Date:                Sat, 08 Jun 2019   Prob (F-statistic):           2.11e-31\n",
      "Time:                        21:44:04   Log-Likelihood:                -4351.5\n",
      "No. Observations:                 563   AIC:                             8713.\n",
      "Df Residuals:                     558   BIC:                             8735.\n",
      "Df Model:                           4                                         \n",
      "Covariance Type:            nonrobust                                         \n",
      "==============================================================================\n",
      "                 coef    std err          t      P>|t|      [0.025      0.975]\n",
      "------------------------------------------------------------------------------\n",
      "Intercept     48.2383     24.686      1.954      0.051      -0.250      96.727\n",
      "R             -0.1803      0.065     -2.792      0.005      -0.307      -0.053\n",
      "C              0.0036      0.003      1.083      0.279      -0.003       0.010\n",
      "W             -0.0178      0.012     -1.509      0.132      -0.041       0.005\n",
      "E              0.4523      0.042     10.867      0.000       0.371       0.534\n",
      "==============================================================================\n",
      "Omnibus:                      837.065   Durbin-Watson:                   2.373\n",
      "Prob(Omnibus):                  0.000   Jarque-Bera (JB):           334042.989\n",
      "Skew:                           7.901   Prob(JB):                         0.00\n",
      "Kurtosis:                     121.280   Cond. No.                     9.94e+03\n",
      "==============================================================================\n",
      "\n",
      "Warnings:\n",
      "[1] Standard Errors assume that the covariance matrix of the errors is correctly specified.\n",
      "[2] The condition number is large, 9.94e+03. This might indicate that there are\n",
      "strong multicollinearity or other numerical problems.\n",
      "r^2: 0.2353 (2.106e-31)\n",
      "Intercept    5.119093e-02\n",
      "R            5.421441e-03\n",
      "C            2.791794e-01\n",
      "W            1.319627e-01\n",
      "E            4.405304e-25\n",
      "dtype: float64\n"
     ]
    }
   ],
   "source": [
    "model = smf.ols('TOTAL_BANDIT ~ R + C + W + E', data=combo_df).fit()\n",
    "summary = model.summary()\n",
    "print(summary)\n",
    "r_square = model.rsquared\n",
    "p_value = model.f_pvalue\n",
    "t_pvalues = model.pvalues\n",
    "\n",
    "print(\"r^2: %.4g (%.4g)\" % (r_square, p_value))\n",
    "print(t_pvalues)"
   ]
  },
  {
   "cell_type": "markdown",
   "metadata": {},
   "source": [
    "## iii) regression by severity"
   ]
  },
  {
   "cell_type": "code",
   "execution_count": 31,
   "metadata": {},
   "outputs": [
    {
     "data": {
      "image/png": "[encoded data removed]",
      "text/plain": [
       "<Figure size 432x288 with 1 Axes>"
      ]
     },
     "metadata": {
      "needs_background": "light"
     },
     "output_type": "display_data"
    },
    {
     "name": "stdout",
     "output_type": "stream",
     "text": [
      "r^2: 0.002489 (0.283)\n"
     ]
    },
    {
     "data": {
      "image/png": "[encoded data removed]",
      "text/plain": [
       "<Figure size 432x288 with 1 Axes>"
      ]
     },
     "metadata": {
      "needs_background": "light"
     },
     "output_type": "display_data"
    },
    {
     "name": "stdout",
     "output_type": "stream",
     "text": [
      "r^2: 0.06551 (2.167e-08)\n"
     ]
    },
    {
     "data": {
      "image/png": "[encoded data removed]",
      "text/plain": [
       "<Figure size 432x288 with 1 Axes>"
      ]
     },
     "metadata": {
      "needs_background": "light"
     },
     "output_type": "display_data"
    },
    {
     "name": "stdout",
     "output_type": "stream",
     "text": [
      "r^2: 0.04638 (2.775e-06)\n",
      "              Benchmark      R       C       W      E    F  TOTAL_PYLINT  \\\n",
      "444  pycryptodome-3.6.5  248.0  4561.0  1472.0  433.0  0.0        6714.0   \n",
      "\n",
      "     B101  B102  B103  ...  HIGH_SEVERITY_INTERSECTIONS  \\\n",
      "444  90.0   0.0   0.0  ...                          NaN   \n",
      "\n",
      "     LOW_SEVERITY_INTERSECTIONS  MED_SEVERITY_INTERSECTIONS  \\\n",
      "444                         NaN                         NaN   \n",
      "\n",
      "     PYLINT_C_INTERSECTIONS  PYLINT_E_INTERSECTIONS  PYLINT_F_INTERSECTIONS  \\\n",
      "444                     NaN                     NaN                     NaN   \n",
      "\n",
      "     PYLINT_I_INTERSECTIONS  PYLINT_R_INTERSECTIONS  PYLINT_W_INTERSECTIONS  \\\n",
      "444                     NaN                     NaN                     NaN   \n",
      "\n",
      "     TOTAL_INTERSECTIONS  \n",
      "444                  NaN  \n",
      "\n",
      "[1 rows x 94 columns]\n"
     ]
    }
   ],
   "source": [
    "model = smf.ols('HIGH_SEVERITY ~ TOTAL_PYLINT', data=combo_df).fit()\n",
    "summary = model.summary()\n",
    "#print(summary)\n",
    "r_square = model.rsquared\n",
    "p_value = model.f_pvalue\n",
    "t_pvalues = model.pvalues\n",
    "sns.scatterplot(x='TOTAL_PYLINT', y='HIGH_SEVERITY', data=combo_df, palette='Set1')\n",
    "plt.title(\"High Severity\")\n",
    "plt.show()\n",
    "plt.close()\n",
    "print(\"r^2: %.4g (%.4g)\" % (r_square, p_value))\n",
    "#print(t_pvalues)\n",
    "\n",
    "model = smf.ols('MED_SEVERITY ~ TOTAL_PYLINT', data=combo_df).fit()\n",
    "summary = model.summary()\n",
    "#print(summary)\n",
    "r_square = model.rsquared\n",
    "p_value = model.f_pvalue\n",
    "t_pvalues = model.pvalues\n",
    "sns.scatterplot(x='TOTAL_PYLINT', y='MED_SEVERITY', data=combo_df, palette='Set1')\n",
    "plt.title(\"Medium Severity\")\n",
    "plt.show()\n",
    "plt.close()\n",
    "\n",
    "print(\"r^2: %.4g (%.4g)\" % (r_square, p_value))\n",
    "#print(t_pvalues)\n",
    "\n",
    "model = smf.ols('LOW_SEVERITY ~ TOTAL_PYLINT', data=combo_df).fit()\n",
    "summary = model.summary()\n",
    "#print(summary)\n",
    "r_square = model.rsquared\n",
    "p_value = model.f_pvalue\n",
    "t_pvalues = model.pvalues\n",
    "sns.scatterplot(x='TOTAL_PYLINT', y='LOW_SEVERITY', data=combo_df, palette='Set1')\n",
    "plt.title(\"Low Severity\")\n",
    "plt.show()\n",
    "plt.close()\n",
    "print(\"r^2: %.4g (%.4g)\" % (r_square, p_value))\n",
    "#print(t_pvalues)\n",
    "\n",
    "print(combo_df.loc[combo_df['HIGH_SEVERITY'] > 400])"
   ]
  },
  {
   "cell_type": "markdown",
   "metadata": {},
   "source": [
    "## iv) severity of vulnerabilities driven by different types of pylint errors "
   ]
  },
  {
   "cell_type": "code",
   "execution_count": 210,
   "metadata": {},
   "outputs": [
    {
     "name": "stdout",
     "output_type": "stream",
     "text": [
      "                            OLS Regression Results                            \n",
      "==============================================================================\n",
      "Dep. Variable:          HIGH_SEVERITY   R-squared:                       0.003\n",
      "Model:                            OLS   Adj. R-squared:                 -0.004\n",
      "Method:                 Least Squares   F-statistic:                    0.4758\n",
      "Date:                Sat, 08 Jun 2019   Prob (F-statistic):              0.753\n",
      "Time:                        21:48:57   Log-Likelihood:                -2575.7\n",
      "No. Observations:                 563   AIC:                             5161.\n",
      "Df Residuals:                     558   BIC:                             5183.\n",
      "Df Model:                           4                                         \n",
      "Covariance Type:            nonrobust                                         \n",
      "==============================================================================\n",
      "                 coef    std err          t      P>|t|      [0.025      0.975]\n",
      "------------------------------------------------------------------------------\n",
      "Intercept      2.2951      1.054      2.179      0.030       0.226       4.364\n",
      "R              0.0006      0.003      0.204      0.838      -0.005       0.006\n",
      "C           3.347e-05      0.000      0.239      0.811      -0.000       0.000\n",
      "W              0.0002      0.001      0.302      0.763      -0.001       0.001\n",
      "E              0.0007      0.002      0.404      0.687      -0.003       0.004\n",
      "==============================================================================\n",
      "Omnibus:                     1196.232   Durbin-Watson:                   1.272\n",
      "Prob(Omnibus):                  0.000   Jarque-Bera (JB):          2085568.294\n",
      "Skew:                          16.289   Prob(JB):                         0.00\n",
      "Kurtosis:                     299.385   Cond. No.                     9.94e+03\n",
      "==============================================================================\n",
      "\n",
      "Warnings:\n",
      "[1] Standard Errors assume that the covariance matrix of the errors is correctly specified.\n",
      "[2] The condition number is large, 9.94e+03. This might indicate that there are\n",
      "strong multicollinearity or other numerical problems.\n",
      "r^2: 0.003399 (0.7535)\n",
      "Intercept    0.029782\n",
      "R            0.838400\n",
      "C            0.811238\n",
      "W            0.762588\n",
      "E            0.686718\n",
      "dtype: float64\n",
      "                            OLS Regression Results                            \n",
      "==============================================================================\n",
      "Dep. Variable:           MED_SEVERITY   R-squared:                       0.125\n",
      "Model:                            OLS   Adj. R-squared:                  0.119\n",
      "Method:                 Least Squares   F-statistic:                     19.93\n",
      "Date:                Sat, 08 Jun 2019   Prob (F-statistic):           2.37e-15\n",
      "Time:                        21:48:57   Log-Likelihood:                -2507.7\n",
      "No. Observations:                 563   AIC:                             5025.\n",
      "Df Residuals:                     558   BIC:                             5047.\n",
      "Df Model:                           4                                         \n",
      "Covariance Type:            nonrobust                                         \n",
      "==============================================================================\n",
      "                 coef    std err          t      P>|t|      [0.025      0.975]\n",
      "------------------------------------------------------------------------------\n",
      "Intercept      4.1799      0.934      4.477      0.000       2.346       6.014\n",
      "R              0.0126      0.002      5.152      0.000       0.008       0.017\n",
      "C          -2.323e-05      0.000     -0.187      0.852      -0.000       0.000\n",
      "W             -0.0004      0.000     -0.903      0.367      -0.001       0.000\n",
      "E              0.0003      0.002      0.171      0.864      -0.003       0.003\n",
      "==============================================================================\n",
      "Omnibus:                      850.324   Durbin-Watson:                   1.990\n",
      "Prob(Omnibus):                  0.000   Jarque-Bera (JB):           233557.023\n",
      "Skew:                           8.364   Prob(JB):                         0.00\n",
      "Kurtosis:                     101.369   Cond. No.                     9.94e+03\n",
      "==============================================================================\n",
      "\n",
      "Warnings:\n",
      "[1] Standard Errors assume that the covariance matrix of the errors is correctly specified.\n",
      "[2] The condition number is large, 9.94e+03. This might indicate that there are\n",
      "strong multicollinearity or other numerical problems.\n",
      "r^2: 0.125 (2.373e-15)\n",
      "Intercept    9.194119e-06\n",
      "R            3.581273e-07\n",
      "C            8.516059e-01\n",
      "W            3.667676e-01\n",
      "E            8.638968e-01\n",
      "dtype: float64\n",
      "                            OLS Regression Results                            \n",
      "==============================================================================\n",
      "Dep. Variable:           LOW_SEVERITY   R-squared:                       0.231\n",
      "Model:                            OLS   Adj. R-squared:                  0.226\n",
      "Method:                 Least Squares   F-statistic:                     41.93\n",
      "Date:                Sat, 08 Jun 2019   Prob (F-statistic):           9.41e-31\n",
      "Time:                        21:48:57   Log-Likelihood:                -4347.9\n",
      "No. Observations:                 563   AIC:                             8706.\n",
      "Df Residuals:                     558   BIC:                             8727.\n",
      "Df Model:                           4                                         \n",
      "Covariance Type:            nonrobust                                         \n",
      "==============================================================================\n",
      "                 coef    std err          t      P>|t|      [0.025      0.975]\n",
      "------------------------------------------------------------------------------\n",
      "Intercept     41.7633     24.530      1.703      0.089      -6.419      89.945\n",
      "R             -0.1934      0.064     -3.014      0.003      -0.319      -0.067\n",
      "C              0.0035      0.003      1.087      0.278      -0.003       0.010\n",
      "W             -0.0176      0.012     -1.497      0.135      -0.041       0.005\n",
      "E              0.4513      0.041     10.912      0.000       0.370       0.533\n",
      "==============================================================================\n",
      "Omnibus:                      846.532   Durbin-Watson:                   2.372\n",
      "Prob(Omnibus):                  0.000   Jarque-Bera (JB):           348672.144\n",
      "Skew:                           8.072   Prob(JB):                         0.00\n",
      "Kurtosis:                     123.842   Cond. No.                     9.94e+03\n",
      "==============================================================================\n",
      "\n",
      "Warnings:\n",
      "[1] Standard Errors assume that the covariance matrix of the errors is correctly specified.\n",
      "[2] The condition number is large, 9.94e+03. This might indicate that there are\n",
      "strong multicollinearity or other numerical problems.\n",
      "r^2: 0.2311 (9.411e-31)\n",
      "Intercept    8.920711e-02\n",
      "R            2.691581e-03\n",
      "C            2.775148e-01\n",
      "W            1.350041e-01\n",
      "E            2.921236e-25\n",
      "dtype: float64\n"
     ]
    }
   ],
   "source": [
    "model = smf.ols('HIGH_SEVERITY ~ R + C + W + E', data=combo_df).fit()\n",
    "summary = model.summary()\n",
    "print(summary)\n",
    "r_square = model.rsquared\n",
    "p_value = model.f_pvalue\n",
    "t_pvalues = model.pvalues\n",
    "print(\"r^2: %.4g (%.4g)\" % (r_square, p_value))\n",
    "print(t_pvalues)\n",
    "\n",
    "model = smf.ols('MED_SEVERITY ~  R + C + W + E ', data=combo_df).fit()\n",
    "summary = model.summary()\n",
    "print(summary)\n",
    "r_square = model.rsquared\n",
    "p_value = model.f_pvalue\n",
    "t_pvalues = model.pvalues\n",
    "print(\"r^2: %.4g (%.4g)\" % (r_square, p_value))\n",
    "print(t_pvalues)\n",
    "\n",
    "model = smf.ols('LOW_SEVERITY ~ R + C + W + E ', data=combo_df).fit()\n",
    "summary = model.summary()\n",
    "print(summary)\n",
    "r_square = model.rsquared\n",
    "p_value = model.f_pvalue\n",
    "t_pvalues = model.pvalues\n",
    "print(\"r^2: %.4g (%.4g)\" % (r_square, p_value))\n",
    "print(t_pvalues)\n",
    "\n",
    "# TODO: show which coef drives the relationship for each high,med,low vulnerabilities"
   ]
  },
  {
   "cell_type": "markdown",
   "metadata": {},
   "source": [
    "## v) take into account benchmark size"
   ]
  },
  {
   "cell_type": "code",
   "execution_count": 32,
   "metadata": {},
   "outputs": [
    {
     "name": "stdout",
     "output_type": "stream",
     "text": [
      "r^2: 0.4082 (3.052e-49)\n",
      "Intercept         2.312356e-01\n",
      "R                 1.271542e-06\n",
      "C                 5.650932e-01\n",
      "W                 1.138159e-01\n",
      "E                 4.227128e-40\n",
      "F                 6.917747e-01\n",
      "BENCHMARK_SIZE    1.145605e-02\n",
      "dtype: float64\n"
     ]
    }
   ],
   "source": [
    "model = smf.ols('TOTAL_BANDIT ~ R + C + W + E + F + BENCHMARK_SIZE', data=combo_df).fit()\n",
    "summary = model.summary()\n",
    "#print(summary)\n",
    "r_square = model.rsquared\n",
    "p_value = model.f_pvalue\n",
    "t_pvalues = model.pvalues\n",
    "\n",
    "print(\"r^2: %.4g (%.4g)\" % (r_square, p_value))\n",
    "print(t_pvalues)"
   ]
  },
  {
   "cell_type": "code",
   "execution_count": 211,
   "metadata": {},
   "outputs": [
    {
     "name": "stdout",
     "output_type": "stream",
     "text": [
      "r^2: 0.006789 (0.0507)\n"
     ]
    },
    {
     "data": {
      "image/png": "[encoded data removed]",
      "text/plain": [
       "<Figure size 432x288 with 1 Axes>"
      ]
     },
     "metadata": {
      "needs_background": "light"
     },
     "output_type": "display_data"
    },
    {
     "name": "stdout",
     "output_type": "stream",
     "text": [
      "106    44912.0\n",
      "Name: BENCHMARK_SIZE, dtype: float64\n"
     ]
    },
    {
     "data": {
      "image/png": "[encoded data removed]",
      "text/plain": [
       "<Figure size 432x288 with 1 Axes>"
      ]
     },
     "metadata": {
      "needs_background": "light"
     },
     "output_type": "display_data"
    }
   ],
   "source": [
    "results = smf.ols('TOTAL_BANDIT ~ BENCHMARK_SIZE', data=combo_df).fit()\n",
    "Y_pred = results.predict(combo_df['BENCHMARK_SIZE'])\n",
    "\n",
    "residual = combo_df['TOTAL_BANDIT'].values - Y_pred\n",
    "combo_df['RESIDUAL'] = residual\n",
    "model = smf.ols('RESIDUAL ~ TOTAL_PYLINT', data=combo_df).fit()\n",
    "\n",
    "summary = model.summary()\n",
    "#print(summary)\n",
    "r_square = model.rsquared\n",
    "p_value = model.f_pvalue\n",
    "\n",
    "print(\"r^2: %.4g (%.4g)\" % (r_square, p_value))\n",
    "\n",
    "sns.scatterplot(x='TOTAL_PYLINT', y='TOTAL_BANDIT', data=combo_df, hue='TOTAL_INTERSECTIONS')\n",
    "plt.show()\n",
    "\n",
    "print(combo_df.loc[combo_df['TOTAL_BANDIT'] > 12000]['BENCHMARK_SIZE'])\n",
    "\n",
    "sns.scatterplot(x='TOTAL_INTERSECTIONS', y='TOTAL_BANDIT', data=combo_df, hue='BENCHMARK_SIZE')\n",
    "plt.show()\n"
   ]
  },
  {
   "cell_type": "markdown",
   "metadata": {},
   "source": [
    "### regress out benchmark size for all variables"
   ]
  },
  {
   "cell_type": "code",
   "execution_count": 63,
   "metadata": {},
   "outputs": [
    {
     "name": "stdout",
     "output_type": "stream",
     "text": [
      "r^2: 0.3409 (1.495e-39)\n",
      "Intercept     1.000000e+00\n",
      "R_RESIDUAL    1.238091e-06\n",
      "C_RESIDUAL    5.646684e-01\n",
      "W_RESIDUAL    1.134216e-01\n",
      "E_RESIDUAL    3.484891e-40\n",
      "F_RESIDUAL    6.914554e-01\n",
      "dtype: float64\n"
     ]
    }
   ],
   "source": [
    "results = smf.ols('TOTAL_BANDIT ~ BENCHMARK_SIZE', data=combo_df).fit()\n",
    "Y_pred = results.predict(combo_df['BENCHMARK_SIZE'])\n",
    "\n",
    "residual = combo_df['TOTAL_BANDIT'].values - Y_pred\n",
    "combo_df['RESIDUAL'] = residual\n",
    "\n",
    "results = smf.ols('R ~ BENCHMARK_SIZE', data=combo_df).fit()\n",
    "Y_pred = results.predict(combo_df['BENCHMARK_SIZE'])\n",
    "R_residual = combo_df['R'].values - Y_pred\n",
    "combo_df['R_RESIDUAL'] = R_residual\n",
    "\n",
    "results = smf.ols('C ~ BENCHMARK_SIZE', data=combo_df).fit()\n",
    "Y_pred = results.predict(combo_df['BENCHMARK_SIZE'])\n",
    "C_residual = combo_df['C'].values - Y_pred\n",
    "combo_df['C_RESIDUAL'] = C_residual\n",
    "\n",
    "results = smf.ols('W ~ BENCHMARK_SIZE', data=combo_df).fit()\n",
    "Y_pred = results.predict(combo_df['BENCHMARK_SIZE'])\n",
    "W_residual = combo_df['W'].values - Y_pred\n",
    "combo_df['W_RESIDUAL'] = W_residual\n",
    "\n",
    "results = smf.ols('E ~ BENCHMARK_SIZE', data=combo_df).fit()\n",
    "Y_pred = results.predict(combo_df['BENCHMARK_SIZE'])\n",
    "E_residual = combo_df['E'].values - Y_pred\n",
    "combo_df['E_RESIDUAL'] = E_residual\n",
    "\n",
    "results = smf.ols('F ~ BENCHMARK_SIZE', data=combo_df).fit()\n",
    "Y_pred = results.predict(combo_df['BENCHMARK_SIZE'])\n",
    "F_residual = combo_df['F'].values - Y_pred\n",
    "combo_df['F_RESIDUAL'] = F_residual\n",
    "\n",
    "#model = smf.ols('TOTAL_BANDIT ~ R + C + W + E + F', data=combo_df).fit()\n",
    "#model = smf.ols('TOTAL_BANDIT ~ R + C + W + E + F + BENCHMARK_SIZE', data=combo_df).fit()\n",
    "model = smf.ols('RESIDUAL ~ R_RESIDUAL + C_RESIDUAL + W_RESIDUAL + E_RESIDUAL + F_RESIDUAL', data=combo_df).fit()\n",
    "summary = model.summary()\n",
    "#print(summary)\n",
    "r_square = model.rsquared\n",
    "p_value = model.f_pvalue\n",
    "t_pvalues = model.pvalues\n",
    "\n",
    "print(\"r^2: %.4g (%.4g)\" % (r_square, p_value))\n",
    "print(t_pvalues)"
   ]
  },
  {
   "cell_type": "markdown",
   "metadata": {},
   "source": [
    "## v) looking into benchmarks with most high risk security errors "
   ]
  },
  {
   "cell_type": "code",
   "execution_count": 174,
   "metadata": {},
   "outputs": [
    {
     "name": "stdout",
     "output_type": "stream",
     "text": [
      "r^2: 0.003199 (0.2235)\n",
      "rho: nan (1)\n"
     ]
    },
    {
     "data": {
      "image/png": "[encoded data removed]",
      "text/plain": [
       "<Figure size 432x288 with 1 Axes>"
      ]
     },
     "metadata": {
      "needs_background": "light"
     },
     "output_type": "display_data"
    }
   ],
   "source": [
    "# normalize by benchmark size\n",
    "combo_df['BANDIT_NORM'] = combo_df['TOTAL_BANDIT'].divide(combo_df['BENCHMARK_SIZE'])\n",
    "combo_df['PYLINT_NORM'] = combo_df['TOTAL_PYLINT'].divide(combo_df['BENCHMARK_SIZE'])\n",
    "combo_df['INTERSECTIONS_NORM'] = combo_df['TOTAL_INTERSECTIONS'].divide(combo_df['BENCHMARK_SIZE'])\n",
    "\n",
    "model = smf.ols('BANDIT_NORM ~ PYLINT_NORM', data=combo_df).fit()\n",
    "summary = model.summary()\n",
    "#print(summary)\n",
    "r_square = model.rsquared\n",
    "p_value = model.f_pvalue\n",
    "\n",
    "corr_coef, rho_pvalue = st.pearsonr(combo_df['BANDIT_NORM'].values, combo_df['PYLINT_NORM'].values)\n",
    "\n",
    "print(\"r^2: %.4g (%.4g)\" % (r_square, p_value))\n",
    "print(\"rho: %.4g (%.4g)\" % (corr_coef, rho_pvalue))\n",
    "\n",
    "sns.scatterplot(x='PYLINT_NORM', y='BANDIT_NORM', data=combo_df, palette='Set1', hue='INTERSECTIONS_NORM')\n",
    "plt.show()"
   ]
  },
  {
   "cell_type": "code",
   "execution_count": 166,
   "metadata": {},
   "outputs": [
    {
     "data": {
      "image/png": "[encoded data removed]",
      "text/plain": [
       "<Figure size 432x288 with 1 Axes>"
      ]
     },
     "metadata": {
      "needs_background": "light"
     },
     "output_type": "display_data"
    },
    {
     "name": "stdout",
     "output_type": "stream",
     "text": [
      "356.0\n"
     ]
    }
   ],
   "source": [
    "sns.distplot(combo_df['BENCHMARK_SIZE'].values)\n",
    "plt.show()\n",
    "\n",
    "print(np.median(combo_df['BENCHMARK_SIZE']))"
   ]
  },
  {
   "cell_type": "code",
   "execution_count": null,
   "metadata": {},
   "outputs": [],
   "source": []
  }
 ],
 "metadata": {
  "kernelspec": {
   "display_name": "Python 3",
   "language": "python",
   "name": "python3"
  },
  "language_info": {
   "codemirror_mode": {
    "name": "ipython",
    "version": 3
   },
   "file_extension": ".py",
   "mimetype": "text/x-python",
   "name": "python",
   "nbconvert_exporter": "python",
   "pygments_lexer": "ipython3",
   "version": "3.7.3"
  }
 },
 "nbformat": 4,
 "nbformat_minor": 2
}
