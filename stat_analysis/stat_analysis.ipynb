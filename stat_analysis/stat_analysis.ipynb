{
 "cells": [
  {
   "cell_type": "markdown",
   "metadata": {},
   "source": [
    "# Stat Analysis"
   ]
  },
  {
   "cell_type": "code",
   "execution_count": 1,
   "metadata": {},
   "outputs": [],
   "source": [
    "import pandas as pd\n",
    "import os\n",
    "import numpy as np \n",
    "import statsmodels.formula.api as smf\n",
    "import seaborn as sns \n",
    "import matplotlib.pyplot as plt "
   ]
  },
  {
   "cell_type": "code",
   "execution_count": 5,
   "metadata": {},
   "outputs": [
    {
     "data": {
      "text/html": [
       "<div>\n",
       "<style scoped>\n",
       "    .dataframe tbody tr th:only-of-type {\n",
       "        vertical-align: middle;\n",
       "    }\n",
       "\n",
       "    .dataframe tbody tr th {\n",
       "        vertical-align: top;\n",
       "    }\n",
       "\n",
       "    .dataframe thead th {\n",
       "        text-align: right;\n",
       "    }\n",
       "</style>\n",
       "<table border=\"1\" class=\"dataframe\">\n",
       "  <thead>\n",
       "    <tr style=\"text-align: right;\">\n",
       "      <th></th>\n",
       "      <th>Benchmark</th>\n",
       "      <th>I</th>\n",
       "      <th>R</th>\n",
       "      <th>C</th>\n",
       "      <th>W</th>\n",
       "      <th>E</th>\n",
       "      <th>F</th>\n",
       "      <th>TOTAL_PYLINT</th>\n",
       "      <th>B101</th>\n",
       "      <th>B102</th>\n",
       "      <th>...</th>\n",
       "      <th>B609</th>\n",
       "      <th>B610</th>\n",
       "      <th>B611</th>\n",
       "      <th>B701</th>\n",
       "      <th>B702</th>\n",
       "      <th>B703</th>\n",
       "      <th>HIGH_SEVERITY</th>\n",
       "      <th>LOW_SEVERITY</th>\n",
       "      <th>MED_SEVERITY</th>\n",
       "      <th>TOTAL_BANDIT</th>\n",
       "    </tr>\n",
       "  </thead>\n",
       "  <tbody>\n",
       "    <tr>\n",
       "      <th>0</th>\n",
       "      <td>alt-model-checkpoint-1.0.0</td>\n",
       "      <td>0</td>\n",
       "      <td>1</td>\n",
       "      <td>14</td>\n",
       "      <td>2</td>\n",
       "      <td>6</td>\n",
       "      <td>0</td>\n",
       "      <td>23</td>\n",
       "      <td>0</td>\n",
       "      <td>0</td>\n",
       "      <td>...</td>\n",
       "      <td>0</td>\n",
       "      <td>0</td>\n",
       "      <td>0</td>\n",
       "      <td>0</td>\n",
       "      <td>0</td>\n",
       "      <td>0</td>\n",
       "      <td>0</td>\n",
       "      <td>0</td>\n",
       "      <td>0</td>\n",
       "      <td>0</td>\n",
       "    </tr>\n",
       "    <tr>\n",
       "      <th>1</th>\n",
       "      <td>bigchaindb_driver-0.5.1</td>\n",
       "      <td>0</td>\n",
       "      <td>35</td>\n",
       "      <td>141</td>\n",
       "      <td>41</td>\n",
       "      <td>63</td>\n",
       "      <td>0</td>\n",
       "      <td>280</td>\n",
       "      <td>120</td>\n",
       "      <td>0</td>\n",
       "      <td>...</td>\n",
       "      <td>0</td>\n",
       "      <td>0</td>\n",
       "      <td>0</td>\n",
       "      <td>0</td>\n",
       "      <td>0</td>\n",
       "      <td>0</td>\n",
       "      <td>0</td>\n",
       "      <td>120</td>\n",
       "      <td>0</td>\n",
       "      <td>120</td>\n",
       "    </tr>\n",
       "    <tr>\n",
       "      <th>2</th>\n",
       "      <td>birdhousebuilder.recipe.nginx-0.1.4</td>\n",
       "      <td>0</td>\n",
       "      <td>2</td>\n",
       "      <td>64</td>\n",
       "      <td>6</td>\n",
       "      <td>7</td>\n",
       "      <td>0</td>\n",
       "      <td>79</td>\n",
       "      <td>0</td>\n",
       "      <td>0</td>\n",
       "      <td>...</td>\n",
       "      <td>0</td>\n",
       "      <td>0</td>\n",
       "      <td>0</td>\n",
       "      <td>0</td>\n",
       "      <td>4</td>\n",
       "      <td>0</td>\n",
       "      <td>0</td>\n",
       "      <td>0</td>\n",
       "      <td>6</td>\n",
       "      <td>6</td>\n",
       "    </tr>\n",
       "    <tr>\n",
       "      <th>3</th>\n",
       "      <td>bise.theme-1.20.1</td>\n",
       "      <td>0</td>\n",
       "      <td>29</td>\n",
       "      <td>155</td>\n",
       "      <td>44</td>\n",
       "      <td>86</td>\n",
       "      <td>0</td>\n",
       "      <td>314</td>\n",
       "      <td>0</td>\n",
       "      <td>0</td>\n",
       "      <td>...</td>\n",
       "      <td>0</td>\n",
       "      <td>0</td>\n",
       "      <td>0</td>\n",
       "      <td>0</td>\n",
       "      <td>0</td>\n",
       "      <td>0</td>\n",
       "      <td>0</td>\n",
       "      <td>1</td>\n",
       "      <td>4</td>\n",
       "      <td>5</td>\n",
       "    </tr>\n",
       "    <tr>\n",
       "      <th>4</th>\n",
       "      <td>bbcode-1.0.8</td>\n",
       "      <td>0</td>\n",
       "      <td>11</td>\n",
       "      <td>33</td>\n",
       "      <td>19</td>\n",
       "      <td>0</td>\n",
       "      <td>0</td>\n",
       "      <td>63</td>\n",
       "      <td>0</td>\n",
       "      <td>0</td>\n",
       "      <td>...</td>\n",
       "      <td>0</td>\n",
       "      <td>0</td>\n",
       "      <td>0</td>\n",
       "      <td>0</td>\n",
       "      <td>0</td>\n",
       "      <td>0</td>\n",
       "      <td>0</td>\n",
       "      <td>0</td>\n",
       "      <td>0</td>\n",
       "      <td>0</td>\n",
       "    </tr>\n",
       "  </tbody>\n",
       "</table>\n",
       "<p>5 rows × 84 columns</p>\n",
       "</div>"
      ],
      "text/plain": [
       "                             Benchmark  I   R    C   W   E  F  TOTAL_PYLINT  \\\n",
       "0           alt-model-checkpoint-1.0.0  0   1   14   2   6  0            23   \n",
       "1              bigchaindb_driver-0.5.1  0  35  141  41  63  0           280   \n",
       "2  birdhousebuilder.recipe.nginx-0.1.4  0   2   64   6   7  0            79   \n",
       "3                    bise.theme-1.20.1  0  29  155  44  86  0           314   \n",
       "4                         bbcode-1.0.8  0  11   33  19   0  0            63   \n",
       "\n",
       "   B101  B102  ...  B609  B610  B611  B701  B702  B703  HIGH_SEVERITY  \\\n",
       "0     0     0  ...     0     0     0     0     0     0              0   \n",
       "1   120     0  ...     0     0     0     0     0     0              0   \n",
       "2     0     0  ...     0     0     0     0     4     0              0   \n",
       "3     0     0  ...     0     0     0     0     0     0              0   \n",
       "4     0     0  ...     0     0     0     0     0     0              0   \n",
       "\n",
       "   LOW_SEVERITY  MED_SEVERITY  TOTAL_BANDIT  \n",
       "0             0             0             0  \n",
       "1           120             0           120  \n",
       "2             0             6             6  \n",
       "3             1             4             5  \n",
       "4             0             0             0  \n",
       "\n",
       "[5 rows x 84 columns]"
      ]
     },
     "execution_count": 5,
     "metadata": {},
     "output_type": "execute_result"
    }
   ],
   "source": [
    "# read in combined dataframe\n",
    "combo_df = pd.read_csv(\"combined_df.txt\")\n",
    "\n",
    "# rename first column to name of benchmarks \n",
    "combo_df.rename(columns={'Unnamed: 0':'Benchmark'}, inplace=True)\n",
    "\n",
    "# print first few lines of dataframe \n",
    "combo_df.head()"
   ]
  },
  {
   "cell_type": "markdown",
   "metadata": {},
   "source": [
    "# Step 1: Overview of data\n",
    "- i) Distribution of Pylint types of errors\n",
    "- ii) Distribution of types of security vulnerabilities\n",
    "- iii) Distribution of security vulnerabilties by severity "
   ]
  },
  {
   "cell_type": "markdown",
   "metadata": {},
   "source": [
    "## i. Distribution of Pylint types of errors"
   ]
  },
  {
   "cell_type": "code",
   "execution_count": 42,
   "metadata": {},
   "outputs": [
    {
     "data": {
      "image/png": "[encoded data removed]",
      "text/plain": [
       "<Figure size 432x288 with 1 Axes>"
      ]
     },
     "metadata": {
      "needs_background": "light"
     },
     "output_type": "display_data"
    }
   ],
   "source": [
    "sum_col = combo_df.apply('sum')\n",
    "pylint_count = sum_col.filter(items=['I', 'R','C','W','E','F'])\n",
    "pylint_count_df = pd.DataFrame({'TYPE': pylint_count.index, 'COUNT': pylint_count})\n",
    "\n",
    "g = sns.barplot(x=\"TYPE\", y=\"COUNT\", data=pylint_count_df, palette='Set1')\n",
    "plt.title(\"Types of programatic/stylistic errors\")\n",
    "plt.show()\n",
    "plt.close()"
   ]
  },
  {
   "cell_type": "markdown",
   "metadata": {},
   "source": [
    "## ii) Distribution of types of security vulnerabilities"
   ]
  },
  {
   "cell_type": "code",
   "execution_count": 48,
   "metadata": {},
   "outputs": [
    {
     "data": {
      "text/html": [
       "<div>\n",
       "<style scoped>\n",
       "    .dataframe tbody tr th:only-of-type {\n",
       "        vertical-align: middle;\n",
       "    }\n",
       "\n",
       "    .dataframe tbody tr th {\n",
       "        vertical-align: top;\n",
       "    }\n",
       "\n",
       "    .dataframe thead th {\n",
       "        text-align: right;\n",
       "    }\n",
       "</style>\n",
       "<table border=\"1\" class=\"dataframe\">\n",
       "  <thead>\n",
       "    <tr style=\"text-align: right;\">\n",
       "      <th></th>\n",
       "      <th>TYPE</th>\n",
       "      <th>COUNT</th>\n",
       "    </tr>\n",
       "  </thead>\n",
       "  <tbody>\n",
       "    <tr>\n",
       "      <th>B101</th>\n",
       "      <td>B101</td>\n",
       "      <td>3227</td>\n",
       "    </tr>\n",
       "    <tr>\n",
       "      <th>B102</th>\n",
       "      <td>B102</td>\n",
       "      <td>3</td>\n",
       "    </tr>\n",
       "    <tr>\n",
       "      <th>B103</th>\n",
       "      <td>B103</td>\n",
       "      <td>2</td>\n",
       "    </tr>\n",
       "    <tr>\n",
       "      <th>B104</th>\n",
       "      <td>B104</td>\n",
       "      <td>6</td>\n",
       "    </tr>\n",
       "    <tr>\n",
       "      <th>B105</th>\n",
       "      <td>B105</td>\n",
       "      <td>26</td>\n",
       "    </tr>\n",
       "    <tr>\n",
       "      <th>B106</th>\n",
       "      <td>B106</td>\n",
       "      <td>11</td>\n",
       "    </tr>\n",
       "    <tr>\n",
       "      <th>B107</th>\n",
       "      <td>B107</td>\n",
       "      <td>2</td>\n",
       "    </tr>\n",
       "    <tr>\n",
       "      <th>B108</th>\n",
       "      <td>B108</td>\n",
       "      <td>84</td>\n",
       "    </tr>\n",
       "    <tr>\n",
       "      <th>B110</th>\n",
       "      <td>B110</td>\n",
       "      <td>42</td>\n",
       "    </tr>\n",
       "    <tr>\n",
       "      <th>B112</th>\n",
       "      <td>B112</td>\n",
       "      <td>2</td>\n",
       "    </tr>\n",
       "    <tr>\n",
       "      <th>B301</th>\n",
       "      <td>B301</td>\n",
       "      <td>17</td>\n",
       "    </tr>\n",
       "    <tr>\n",
       "      <th>B303</th>\n",
       "      <td>B303</td>\n",
       "      <td>34</td>\n",
       "    </tr>\n",
       "    <tr>\n",
       "      <th>B307</th>\n",
       "      <td>B307</td>\n",
       "      <td>4</td>\n",
       "    </tr>\n",
       "    <tr>\n",
       "      <th>B310</th>\n",
       "      <td>B310</td>\n",
       "      <td>14</td>\n",
       "    </tr>\n",
       "    <tr>\n",
       "      <th>B311</th>\n",
       "      <td>B311</td>\n",
       "      <td>22</td>\n",
       "    </tr>\n",
       "    <tr>\n",
       "      <th>B314</th>\n",
       "      <td>B314</td>\n",
       "      <td>1</td>\n",
       "    </tr>\n",
       "    <tr>\n",
       "      <th>B318</th>\n",
       "      <td>B318</td>\n",
       "      <td>1</td>\n",
       "    </tr>\n",
       "    <tr>\n",
       "      <th>B320</th>\n",
       "      <td>B320</td>\n",
       "      <td>1</td>\n",
       "    </tr>\n",
       "    <tr>\n",
       "      <th>B321</th>\n",
       "      <td>B321</td>\n",
       "      <td>2</td>\n",
       "    </tr>\n",
       "    <tr>\n",
       "      <th>B322</th>\n",
       "      <td>B322</td>\n",
       "      <td>3</td>\n",
       "    </tr>\n",
       "    <tr>\n",
       "      <th>B402</th>\n",
       "      <td>B402</td>\n",
       "      <td>2</td>\n",
       "    </tr>\n",
       "    <tr>\n",
       "      <th>B403</th>\n",
       "      <td>B403</td>\n",
       "      <td>22</td>\n",
       "    </tr>\n",
       "    <tr>\n",
       "      <th>B404</th>\n",
       "      <td>B404</td>\n",
       "      <td>59</td>\n",
       "    </tr>\n",
       "    <tr>\n",
       "      <th>B405</th>\n",
       "      <td>B405</td>\n",
       "      <td>16</td>\n",
       "    </tr>\n",
       "    <tr>\n",
       "      <th>B406</th>\n",
       "      <td>B406</td>\n",
       "      <td>1</td>\n",
       "    </tr>\n",
       "    <tr>\n",
       "      <th>B408</th>\n",
       "      <td>B408</td>\n",
       "      <td>1</td>\n",
       "    </tr>\n",
       "    <tr>\n",
       "      <th>B410</th>\n",
       "      <td>B410</td>\n",
       "      <td>2</td>\n",
       "    </tr>\n",
       "    <tr>\n",
       "      <th>B411</th>\n",
       "      <td>B411</td>\n",
       "      <td>1</td>\n",
       "    </tr>\n",
       "    <tr>\n",
       "      <th>B413</th>\n",
       "      <td>B413</td>\n",
       "      <td>4</td>\n",
       "    </tr>\n",
       "    <tr>\n",
       "      <th>B502</th>\n",
       "      <td>B502</td>\n",
       "      <td>1</td>\n",
       "    </tr>\n",
       "    <tr>\n",
       "      <th>B506</th>\n",
       "      <td>B506</td>\n",
       "      <td>6</td>\n",
       "    </tr>\n",
       "    <tr>\n",
       "      <th>B601</th>\n",
       "      <td>B601</td>\n",
       "      <td>1</td>\n",
       "    </tr>\n",
       "    <tr>\n",
       "      <th>B602</th>\n",
       "      <td>B602</td>\n",
       "      <td>37</td>\n",
       "    </tr>\n",
       "    <tr>\n",
       "      <th>B603</th>\n",
       "      <td>B603</td>\n",
       "      <td>81</td>\n",
       "    </tr>\n",
       "    <tr>\n",
       "      <th>B605</th>\n",
       "      <td>B605</td>\n",
       "      <td>7</td>\n",
       "    </tr>\n",
       "    <tr>\n",
       "      <th>B606</th>\n",
       "      <td>B606</td>\n",
       "      <td>3</td>\n",
       "    </tr>\n",
       "    <tr>\n",
       "      <th>B607</th>\n",
       "      <td>B607</td>\n",
       "      <td>53</td>\n",
       "    </tr>\n",
       "    <tr>\n",
       "      <th>B608</th>\n",
       "      <td>B608</td>\n",
       "      <td>1</td>\n",
       "    </tr>\n",
       "    <tr>\n",
       "      <th>B701</th>\n",
       "      <td>B701</td>\n",
       "      <td>2</td>\n",
       "    </tr>\n",
       "    <tr>\n",
       "      <th>B702</th>\n",
       "      <td>B702</td>\n",
       "      <td>4</td>\n",
       "    </tr>\n",
       "  </tbody>\n",
       "</table>\n",
       "</div>"
      ],
      "text/plain": [
       "      TYPE COUNT\n",
       "B101  B101  3227\n",
       "B102  B102     3\n",
       "B103  B103     2\n",
       "B104  B104     6\n",
       "B105  B105    26\n",
       "B106  B106    11\n",
       "B107  B107     2\n",
       "B108  B108    84\n",
       "B110  B110    42\n",
       "B112  B112     2\n",
       "B301  B301    17\n",
       "B303  B303    34\n",
       "B307  B307     4\n",
       "B310  B310    14\n",
       "B311  B311    22\n",
       "B314  B314     1\n",
       "B318  B318     1\n",
       "B320  B320     1\n",
       "B321  B321     2\n",
       "B322  B322     3\n",
       "B402  B402     2\n",
       "B403  B403    22\n",
       "B404  B404    59\n",
       "B405  B405    16\n",
       "B406  B406     1\n",
       "B408  B408     1\n",
       "B410  B410     2\n",
       "B411  B411     1\n",
       "B413  B413     4\n",
       "B502  B502     1\n",
       "B506  B506     6\n",
       "B601  B601     1\n",
       "B602  B602    37\n",
       "B603  B603    81\n",
       "B605  B605     7\n",
       "B606  B606     3\n",
       "B607  B607    53\n",
       "B608  B608     1\n",
       "B701  B701     2\n",
       "B702  B702     4"
      ]
     },
     "execution_count": 48,
     "metadata": {},
     "output_type": "execute_result"
    },
    {
     "data": {
      "image/png": "[encoded data removed]",
      "text/plain": [
       "<Figure size 432x288 with 1 Axes>"
      ]
     },
     "metadata": {
      "needs_background": "light"
     },
     "output_type": "display_data"
    }
   ],
   "source": [
    "# List of bandit tests from https://github.com/PyCQA/bandit\n",
    "test_ids = [\"B101\", \"B102\", \"B103\", \"B104\", \"B105\", \"B106\", \"B107\", \"B108\", \"B109\", \"B110\", \"B111\", \"B112\"]\n",
    "test_ids += [\"B201\"]\n",
    "test_ids += [\"B301\", \"B302\", \"B303\", \"B304\", \"B305\", \"B306\", \"B307\", \"B308\", \"B309\", \"B310\"]\n",
    "test_ids += [\"B311\", \"B312\", \"B313\", \"B314\", \"B315\", \"B316\", \"B317\", \"B318\", \"B319\", \"B320\"]\n",
    "test_ids += [\"B321\", \"B322\", \"B323\", \"B324\", \"B325\"]\n",
    "test_ids += [\"B401\", \"B402\", \"B403\", \"B404\", \"B405\", \"B406\", \"B407\", \"B408\", \"B409\", \"B410\", \"B411\", \"B412\", \"B413\"]\n",
    "test_ids += [\"B501\", \"B502\", \"B503\", \"B504\", \"B505\", \"B506\", \"B507\"]\n",
    "test_ids += [\"B601\", \"B602\", \"B603\", \"B604\", \"B605\", \"B606\", \"B607\", \"B608\", \"B609\", \"B610\", \"B611\"]\n",
    "test_ids += [\"B701\", \"B702\", \"B703\"]\n",
    "\n",
    "sum_col = combo_df.apply('sum')\n",
    "pylint_count = sum_col.filter(items=test_ids)\n",
    "pylint_count_df = pd.DataFrame({'TYPE': pylint_count.index, 'COUNT': pylint_count})\n",
    "#pylint_count_df = pylint_count_df[pylint_count_df['COUNT'] != 0]\n",
    "\n",
    "g = sns.barplot(x=\"TYPE\", y=\"COUNT\", data=pylint_count_df, palette='Set1')\n",
    "plt.title(\"Types of security vulnerabilities\")\n",
    "pylint_count_df"
   ]
  },
  {
   "cell_type": "markdown",
   "metadata": {},
   "source": [
    "# iii) Distribution of security vulnerabilties by severity"
   ]
  },
  {
   "cell_type": "code",
   "execution_count": 80,
   "metadata": {},
   "outputs": [
    {
     "data": {
      "image/png": "[encoded data removed]",
      "text/plain": [
       "<Figure size 432x288 with 1 Axes>"
      ]
     },
     "metadata": {
      "needs_background": "light"
     },
     "output_type": "display_data"
    },
    {
     "name": "stdout",
     "output_type": "stream",
     "text": [
      "                        TYPE COUNT\n",
      "LOW_SEVERITY    LOW_SEVERITY  3581\n",
      "MED_SEVERITY    MED_SEVERITY   178\n",
      "HIGH_SEVERITY  HIGH_SEVERITY    49\n"
     ]
    }
   ],
   "source": [
    "sum_col = combo_df.apply('sum')\n",
    "pylint_count = sum_col.filter(items=['LOW_SEVERITY', 'MED_SEVERITY', 'HIGH_SEVERITY'])\n",
    "pylint_count_df = pd.DataFrame({'TYPE': pylint_count.index, 'COUNT': pylint_count})\n",
    "\n",
    "g = sns.barplot(x=\"TYPE\", y=\"COUNT\", data=pylint_count_df, palette='Set1')\n",
    "plt.title(\"Types of programatic/stylistic errors\")\n",
    "plt.show()\n",
    "plt.close()\n",
    "\n",
    "print(pylint_count_df)"
   ]
  },
  {
   "cell_type": "markdown",
   "metadata": {},
   "source": [
    "# Step 2: Relationship between total errors and total vulnerabilities\n",
    "- i) vanilla linear regression\n",
    "- ii) multivariate regression by type of error\n",
    "- iii) regression by severity \n",
    "- iv) different types of severity driven by types of errors\n",
    "- v) looking into outliers"
   ]
  },
  {
   "cell_type": "code",
   "execution_count": 61,
   "metadata": {},
   "outputs": [
    {
     "name": "stdout",
     "output_type": "stream",
     "text": [
      "r^2: 0.04854 (0.2034)\n",
      "rho: 0.2203\n"
     ]
    },
    {
     "data": {
      "image/png": "[encoded data removed]",
      "text/plain": [
       "<Figure size 432x288 with 1 Axes>"
      ]
     },
     "metadata": {
      "needs_background": "light"
     },
     "output_type": "display_data"
    }
   ],
   "source": [
    "model = smf.ols('TOTAL_BANDIT ~ TOTAL_PYLINT', data=combo_df).fit()\n",
    "summary = model.summary()\n",
    "#print(summary)\n",
    "r_square = model.rsquared\n",
    "p_value = model.f_pvalue\n",
    "\n",
    "corr_coef = np.corrcoef(x=combo_df['TOTAL_PYLINT'].values, y=combo_df['TOTAL_BANDIT'].values)\n",
    "corr_coef = corr_coef[0,1]\n",
    "\n",
    "print(\"r^2: %.4g (%.4g)\" % (r_square, p_value))\n",
    "print(\"rho: %.4g\" % corr_coef)\n",
    "\n",
    "sns.scatterplot(x='TOTAL_PYLINT', y='TOTAL_BANDIT', data=combo_df, palette='Set1')\n",
    "plt.show()"
   ]
  },
  {
   "cell_type": "markdown",
   "metadata": {},
   "source": [
    "## ii) multivariate regression by type of error"
   ]
  },
  {
   "cell_type": "code",
   "execution_count": 71,
   "metadata": {},
   "outputs": [
    {
     "name": "stdout",
     "output_type": "stream",
     "text": [
      "r^2: 0.8397 (1.615e-11)\n",
      "Intercept    8.695378e-01\n",
      "I            8.695904e-01\n",
      "R            2.354183e-02\n",
      "C            1.802657e-01\n",
      "W            8.591835e-01\n",
      "E            5.169199e-08\n",
      "F                     NaN\n",
      "dtype: float64\n"
     ]
    }
   ],
   "source": [
    "model = smf.ols('TOTAL_BANDIT ~ I + R + C + W + E + F', data=combo_df).fit()\n",
    "summary = model.summary()\n",
    "#print(summary)\n",
    "r_square = model.rsquared\n",
    "p_value = model.f_pvalue\n",
    "t_pvalues = model.pvalues\n",
    "\n",
    "print(\"r^2: %.4g (%.4g)\" % (r_square, p_value))\n",
    "print(t_pvalues)"
   ]
  },
  {
   "cell_type": "markdown",
   "metadata": {},
   "source": [
    "## iii) regression by severity"
   ]
  },
  {
   "cell_type": "code",
   "execution_count": 79,
   "metadata": {},
   "outputs": [
    {
     "data": {
      "image/png": "[encoded data removed]",
      "text/plain": [
       "<Figure size 432x288 with 1 Axes>"
      ]
     },
     "metadata": {
      "needs_background": "light"
     },
     "output_type": "display_data"
    },
    {
     "name": "stdout",
     "output_type": "stream",
     "text": [
      "r^2: 0.148 (0.0225)\n"
     ]
    },
    {
     "data": {
      "image/png": "[encoded data removed]",
      "text/plain": [
       "<Figure size 432x288 with 1 Axes>"
      ]
     },
     "metadata": {
      "needs_background": "light"
     },
     "output_type": "display_data"
    },
    {
     "name": "stdout",
     "output_type": "stream",
     "text": [
      "r^2: 0.3171 (0.0004286)\n"
     ]
    },
    {
     "data": {
      "image/png": "[encoded data removed]",
      "text/plain": [
       "<Figure size 432x288 with 1 Axes>"
      ]
     },
     "metadata": {
      "needs_background": "light"
     },
     "output_type": "display_data"
    },
    {
     "name": "stdout",
     "output_type": "stream",
     "text": [
      "r^2: 0.03936 (0.2533)\n"
     ]
    }
   ],
   "source": [
    "model = smf.ols('HIGH_SEVERITY ~ TOTAL_PYLINT', data=combo_df).fit()\n",
    "summary = model.summary()\n",
    "#print(summary)\n",
    "r_square = model.rsquared\n",
    "p_value = model.f_pvalue\n",
    "t_pvalues = model.pvalues\n",
    "sns.scatterplot(x='TOTAL_PYLINT', y='HIGH_SEVERITY', data=combo_df, palette='Set1')\n",
    "plt.title(\"High Severity\")\n",
    "plt.show()\n",
    "plt.close()\n",
    "print(\"r^2: %.4g (%.4g)\" % (r_square, p_value))\n",
    "#print(t_pvalues)\n",
    "\n",
    "model = smf.ols('MED_SEVERITY ~ TOTAL_PYLINT', data=combo_df).fit()\n",
    "summary = model.summary()\n",
    "#print(summary)\n",
    "r_square = model.rsquared\n",
    "p_value = model.f_pvalue\n",
    "t_pvalues = model.pvalues\n",
    "sns.scatterplot(x='TOTAL_PYLINT', y='MED_SEVERITY', data=combo_df, palette='Set1')\n",
    "plt.title(\"Medium Severity\")\n",
    "plt.show()\n",
    "plt.close()\n",
    "\n",
    "print(\"r^2: %.4g (%.4g)\" % (r_square, p_value))\n",
    "#print(t_pvalues)\n",
    "\n",
    "model = smf.ols('LOW_SEVERITY ~ TOTAL_PYLINT', data=combo_df).fit()\n",
    "summary = model.summary()\n",
    "#print(summary)\n",
    "r_square = model.rsquared\n",
    "p_value = model.f_pvalue\n",
    "t_pvalues = model.pvalues\n",
    "sns.scatterplot(x='TOTAL_PYLINT', y='LOW_SEVERITY', data=combo_df, palette='Set1')\n",
    "plt.title(\"Low Severity\")\n",
    "plt.show()\n",
    "plt.close()\n",
    "print(\"r^2: %.4g (%.4g)\" % (r_square, p_value))\n",
    "#print(t_pvalues)"
   ]
  },
  {
   "cell_type": "markdown",
   "metadata": {},
   "source": [
    "## iv) severity of vulnerabilities driven by different types of pylint errors "
   ]
  },
  {
   "cell_type": "code",
   "execution_count": 81,
   "metadata": {},
   "outputs": [
    {
     "name": "stdout",
     "output_type": "stream",
     "text": [
      "r^2: 0.6505 (1.528e-06)\n",
      "Intercept    0.302675\n",
      "I            0.302669\n",
      "R            0.695780\n",
      "C            0.523907\n",
      "W            0.898062\n",
      "E            0.000018\n",
      "F                 NaN\n",
      "dtype: float64\n",
      "r^2: 0.3263 (0.01576)\n",
      "Intercept    0.370097\n",
      "I            0.370096\n",
      "R            0.945227\n",
      "C            0.529196\n",
      "W            0.827420\n",
      "E            0.704935\n",
      "F                 NaN\n",
      "dtype: float64\n",
      "r^2: 0.8416 (1.345e-11)\n",
      "Intercept    8.027253e-01\n",
      "I            8.027776e-01\n",
      "R            2.145296e-02\n",
      "C            1.853716e-01\n",
      "W            8.451629e-01\n",
      "E            4.144347e-08\n",
      "F                     NaN\n",
      "dtype: float64\n"
     ]
    }
   ],
   "source": [
    "model = smf.ols('HIGH_SEVERITY ~ I + R + C + W + E + F', data=combo_df).fit()\n",
    "summary = model.summary()\n",
    "#print(summary)\n",
    "r_square = model.rsquared\n",
    "p_value = model.f_pvalue\n",
    "t_pvalues = model.pvalues\n",
    "print(\"r^2: %.4g (%.4g)\" % (r_square, p_value))\n",
    "print(t_pvalues)\n",
    "\n",
    "model = smf.ols('MED_SEVERITY ~ I + R + C + W + E + F', data=combo_df).fit()\n",
    "summary = model.summary()\n",
    "#print(summary)\n",
    "r_square = model.rsquared\n",
    "p_value = model.f_pvalue\n",
    "t_pvalues = model.pvalues\n",
    "print(\"r^2: %.4g (%.4g)\" % (r_square, p_value))\n",
    "print(t_pvalues)\n",
    "\n",
    "model = smf.ols('LOW_SEVERITY ~ I + R + C + W + E + F', data=combo_df).fit()\n",
    "summary = model.summary()\n",
    "#print(summary)\n",
    "r_square = model.rsquared\n",
    "p_value = model.f_pvalue\n",
    "t_pvalues = model.pvalues\n",
    "print(\"r^2: %.4g (%.4g)\" % (r_square, p_value))\n",
    "print(t_pvalues)\n",
    "\n",
    "# TODO: show which coef drives the relationship for each high,med,low vulnerabilities"
   ]
  },
  {
   "cell_type": "markdown",
   "metadata": {},
   "source": [
    "## v) looking into outliers"
   ]
  },
  {
   "cell_type": "code",
   "execution_count": null,
   "metadata": {},
   "outputs": [],
   "source": []
  }
 ],
 "metadata": {
  "kernelspec": {
   "display_name": "Python 3",
   "language": "python",
   "name": "python3"
  },
  "language_info": {
   "codemirror_mode": {
    "name": "ipython",
    "version": 3
   },
   "file_extension": ".py",
   "mimetype": "text/x-python",
   "name": "python",
   "nbconvert_exporter": "python",
   "pygments_lexer": "ipython3",
   "version": "3.7.3"
  }
 },
 "nbformat": 4,
 "nbformat_minor": 2
}
