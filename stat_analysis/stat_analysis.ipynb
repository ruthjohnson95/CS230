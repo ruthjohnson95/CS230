{
 "cells": [
  {
   "cell_type": "code",
   "execution_count": 3,
   "metadata": {},
   "outputs": [
    {
     "data": {
      "text/plain": [
       "'test'"
      ]
     },
     "execution_count": 3,
     "metadata": {},
     "output_type": "execute_result"
    }
   ],
   "source": [
    "import pandas as pd\n",
    "import os\n",
    "\n",
    "bandit_file=\"/Users/ruthjohnson/Desktop/CS230/bandit parser/test_bandit.txt\"\n",
    "benchmark_name=os.path.basename(bandit_file).split('_bandit.txt')[0]\n",
    "benchmark_name"
   ]
  },
  {
   "cell_type": "code",
   "execution_count": 5,
   "metadata": {},
   "outputs": [
    {
     "data": {
      "text/plain": [
       "4"
      ]
     },
     "execution_count": 5,
     "metadata": {},
     "output_type": "execute_result"
    }
   ],
   "source": [
    "df = pd.read_csv(bandit_file, sep=',')\n",
    "\n",
    "total_security_issues = len(df.index)\n",
    "\n",
    "total_security_issues"
   ]
  },
  {
   "cell_type": "code",
   "execution_count": 11,
   "metadata": {},
   "outputs": [
    {
     "data": {
      "text/html": [
       "<div>\n",
       "<style scoped>\n",
       "    .dataframe tbody tr th:only-of-type {\n",
       "        vertical-align: middle;\n",
       "    }\n",
       "\n",
       "    .dataframe tbody tr th {\n",
       "        vertical-align: top;\n",
       "    }\n",
       "\n",
       "    .dataframe thead th {\n",
       "        text-align: right;\n",
       "    }\n",
       "</style>\n",
       "<table border=\"1\" class=\"dataframe\">\n",
       "  <thead>\n",
       "    <tr style=\"text-align: right;\">\n",
       "      <th></th>\n",
       "      <th>B101</th>\n",
       "      <th>B102</th>\n",
       "      <th>HIGH_SEVERITY</th>\n",
       "      <th>MED_SEVERITY</th>\n",
       "      <th>LOW_SEVERITY</th>\n",
       "      <th>TOTAL_BANDIT</th>\n",
       "      <th>I</th>\n",
       "      <th>R</th>\n",
       "      <th>C</th>\n",
       "      <th>W</th>\n",
       "      <th>E</th>\n",
       "      <th>F</th>\n",
       "      <th>TOTAL_PYLINT</th>\n",
       "    </tr>\n",
       "  </thead>\n",
       "  <tbody>\n",
       "    <tr>\n",
       "      <th>0</th>\n",
       "      <td>1</td>\n",
       "      <td>4</td>\n",
       "      <td>2</td>\n",
       "      <td>2</td>\n",
       "      <td>1</td>\n",
       "      <td>5</td>\n",
       "      <td>2</td>\n",
       "      <td>2</td>\n",
       "      <td>2</td>\n",
       "      <td>2</td>\n",
       "      <td>2</td>\n",
       "      <td>2</td>\n",
       "      <td>12</td>\n",
       "    </tr>\n",
       "    <tr>\n",
       "      <th>1</th>\n",
       "      <td>1</td>\n",
       "      <td>4</td>\n",
       "      <td>2</td>\n",
       "      <td>2</td>\n",
       "      <td>1</td>\n",
       "      <td>5</td>\n",
       "      <td>2</td>\n",
       "      <td>2</td>\n",
       "      <td>2</td>\n",
       "      <td>1</td>\n",
       "      <td>2</td>\n",
       "      <td>2</td>\n",
       "      <td>12</td>\n",
       "    </tr>\n",
       "    <tr>\n",
       "      <th>2</th>\n",
       "      <td>1</td>\n",
       "      <td>5</td>\n",
       "      <td>2</td>\n",
       "      <td>2</td>\n",
       "      <td>1</td>\n",
       "      <td>5</td>\n",
       "      <td>2</td>\n",
       "      <td>2</td>\n",
       "      <td>2</td>\n",
       "      <td>2</td>\n",
       "      <td>2</td>\n",
       "      <td>3</td>\n",
       "      <td>12</td>\n",
       "    </tr>\n",
       "    <tr>\n",
       "      <th>3</th>\n",
       "      <td>1</td>\n",
       "      <td>4</td>\n",
       "      <td>2</td>\n",
       "      <td>2</td>\n",
       "      <td>5</td>\n",
       "      <td>5</td>\n",
       "      <td>2</td>\n",
       "      <td>6</td>\n",
       "      <td>2</td>\n",
       "      <td>2</td>\n",
       "      <td>2</td>\n",
       "      <td>2</td>\n",
       "      <td>20</td>\n",
       "    </tr>\n",
       "  </tbody>\n",
       "</table>\n",
       "</div>"
      ],
      "text/plain": [
       "   B101  B102  HIGH_SEVERITY  MED_SEVERITY  LOW_SEVERITY  TOTAL_BANDIT  I  R  \\\n",
       "0     1     4              2             2             1             5  2  2   \n",
       "1     1     4              2             2             1             5  2  2   \n",
       "2     1     5              2             2             1             5  2  2   \n",
       "3     1     4              2             2             5             5  2  6   \n",
       "\n",
       "   C  W  E  F  TOTAL_PYLINT  \n",
       "0  2  2  2  2            12  \n",
       "1  2  1  2  2            12  \n",
       "2  2  2  2  3            12  \n",
       "3  2  2  2  2            20  "
      ]
     },
     "execution_count": 11,
     "metadata": {},
     "output_type": "execute_result"
    }
   ],
   "source": [
    "dataframe_file=\"/Users/ruthjohnson/Desktop/CS230/stat_analysis/test_dataframe.txt\"\n",
    "\n",
    "df = pd.read_csv(dataframe_file)\n",
    "\n",
    "df"
   ]
  },
  {
   "cell_type": "markdown",
   "metadata": {},
   "source": [
    "# Overall correlation between security and errors"
   ]
  },
  {
   "cell_type": "code",
   "execution_count": 12,
   "metadata": {},
   "outputs": [
    {
     "name": "stdout",
     "output_type": "stream",
     "text": [
      "Index(['B101', 'B102', 'HIGH_SEVERITY', 'MED_SEVERITY', 'LOW_SEVERITY',\n",
      "       'TOTAL_BANDIT', 'I', 'R', 'C', 'W', 'E', 'F', 'TOTAL_PYLINT'],\n",
      "      dtype='object')\n",
      "                            OLS Regression Results                            \n",
      "==============================================================================\n",
      "Dep. Variable:           TOTAL_BANDIT   R-squared:                        -inf\n",
      "Model:                            OLS   Adj. R-squared:                   -inf\n",
      "Method:                 Least Squares   F-statistic:                    -2.000\n",
      "Date:                Fri, 31 May 2019   Prob (F-statistic):               1.00\n",
      "Time:                        14:11:06   Log-Likelihood:                 130.18\n",
      "No. Observations:                   4   AIC:                            -256.4\n",
      "Df Residuals:                       2   BIC:                            -257.6\n",
      "Df Model:                           1                                         \n",
      "Covariance Type:            nonrobust                                         \n",
      "================================================================================\n",
      "                   coef    std err          t      P>|t|      [0.025      0.975]\n",
      "--------------------------------------------------------------------------------\n",
      "Intercept        5.0000   5.23e-15   9.56e+14      0.000       5.000       5.000\n",
      "TOTAL_PYLINT  -1.11e-16   3.63e-16     -0.306      0.788   -1.67e-15    1.45e-15\n",
      "==============================================================================\n",
      "Omnibus:                          nan   Durbin-Watson:                   0.000\n",
      "Prob(Omnibus):                    nan   Jarque-Bera (JB):                1.500\n",
      "Skew:                           0.000   Prob(JB):                        0.472\n",
      "Kurtosis:                       0.000   Cond. No.                         60.3\n",
      "==============================================================================\n",
      "\n",
      "Warnings:\n",
      "[1] Standard Errors assume that the covariance matrix of the errors is correctly specified.\n"
     ]
    },
    {
     "name": "stderr",
     "output_type": "stream",
     "text": [
      "/Users/ruthjohnson/anaconda3/lib/python3.7/site-packages/statsmodels/stats/stattools.py:72: ValueWarning: omni_normtest is not valid with less than 8 observations; 4 samples were given.\n",
      "  \"samples were given.\" % int(n), ValueWarning)\n"
     ]
    }
   ],
   "source": [
    "import scipy.stats as st\n",
    "import statsmodels.formula.api as smf\n",
    "\n",
    "print(df.columns)\n",
    "model = smf.ols('TOTAL_BANDIT ~ TOTAL_PYLINT', data=df).fit()\n",
    "summary = model.summary()\n",
    "print(summary)\n"
   ]
  },
  {
   "cell_type": "code",
   "execution_count": 14,
   "metadata": {},
   "outputs": [
    {
     "data": {
      "image/png": "[encoded data removed]",
      "text/plain": [
       "<Figure size 432x288 with 1 Axes>"
      ]
     },
     "metadata": {
      "needs_background": "light"
     },
     "output_type": "display_data"
    }
   ],
   "source": [
    "import seaborn as sns \n",
    "import matplotlib.pyplot as plt \n",
    "\n",
    "sns.scatterplot(x='TOTAL_PYLINT', y='TOTAL_BANDIT', data=df)\n",
    "\n",
    "# plot slope too \n",
    "\n",
    "plt.show()"
   ]
  },
  {
   "cell_type": "code",
   "execution_count": 16,
   "metadata": {},
   "outputs": [
    {
     "name": "stdout",
     "output_type": "stream",
     "text": [
      "                            OLS Regression Results                            \n",
      "==============================================================================\n",
      "Dep. Variable:          HIGH_SEVERITY   R-squared:                        -inf\n",
      "Model:                            OLS   Adj. R-squared:                   -inf\n",
      "Method:                 Least Squares   F-statistic:                    -0.000\n",
      "Date:                Fri, 31 May 2019   Prob (F-statistic):                nan\n",
      "Time:                        14:14:05   Log-Likelihood:                 132.72\n",
      "No. Observations:                   4   AIC:                            -257.4\n",
      "Df Residuals:                       0   BIC:                            -259.9\n",
      "Df Model:                           3                                         \n",
      "Covariance Type:            nonrobust                                         \n",
      "==============================================================================\n",
      "                 coef    std err          t      P>|t|      [0.025      0.975]\n",
      "------------------------------------------------------------------------------\n",
      "Intercept      0.1538        inf          0        nan         nan         nan\n",
      "I              0.3077        inf          0        nan         nan         nan\n",
      "R           3.331e-16        inf          0        nan         nan         nan\n",
      "C              0.3077        inf          0        nan         nan         nan\n",
      "W          -2.054e-15        inf         -0        nan         nan         nan\n",
      "E              0.3077        inf          0        nan         nan         nan\n",
      "F            2.22e-15        inf          0        nan         nan         nan\n",
      "==============================================================================\n",
      "Omnibus:                          nan   Durbin-Watson:                   1.167\n",
      "Prob(Omnibus):                    nan   Jarque-Bera (JB):                0.482\n",
      "Skew:                           0.687   Prob(JB):                        0.786\n",
      "Kurtosis:                       2.000   Cond. No.                         20.0\n",
      "==============================================================================\n",
      "\n",
      "Warnings:\n",
      "[1] Standard Errors assume that the covariance matrix of the errors is correctly specified.\n",
      "[2] The input rank is higher than the number of observations.\n"
     ]
    },
    {
     "name": "stderr",
     "output_type": "stream",
     "text": [
      "/Users/ruthjohnson/anaconda3/lib/python3.7/site-packages/statsmodels/stats/stattools.py:72: ValueWarning: omni_normtest is not valid with less than 8 observations; 4 samples were given.\n",
      "  \"samples were given.\" % int(n), ValueWarning)\n",
      "/Users/ruthjohnson/anaconda3/lib/python3.7/site-packages/statsmodels/regression/linear_model.py:1543: RuntimeWarning: divide by zero encountered in double_scalars\n",
      "  return 1 - self.ssr/self.centered_tss\n",
      "/Users/ruthjohnson/anaconda3/lib/python3.7/site-packages/statsmodels/regression/linear_model.py:1549: RuntimeWarning: divide by zero encountered in true_divide\n",
      "  return 1 - (np.divide(self.nobs - self.k_constant, self.df_resid)\n",
      "/Users/ruthjohnson/anaconda3/lib/python3.7/site-packages/statsmodels/regression/linear_model.py:1558: RuntimeWarning: divide by zero encountered in double_scalars\n",
      "  return self.ssr/self.df_resid\n",
      "/Users/ruthjohnson/anaconda3/lib/python3.7/site-packages/statsmodels/regression/linear_model.py:1510: RuntimeWarning: divide by zero encountered in double_scalars\n",
      "  return np.dot(wresid, wresid) / self.df_resid\n"
     ]
    }
   ],
   "source": [
    "model = smf.ols('HIGH_SEVERITY ~ I + R + C + W + E + F', data=df).fit()\n",
    "summary = model.summary()\n",
    "print(summary)"
   ]
  },
  {
   "cell_type": "code",
   "execution_count": null,
   "metadata": {},
   "outputs": [],
   "source": []
  }
 ],
 "metadata": {
  "kernelspec": {
   "display_name": "Python 3",
   "language": "python",
   "name": "python3"
  },
  "language_info": {
   "codemirror_mode": {
    "name": "ipython",
    "version": 3
   },
   "file_extension": ".py",
   "mimetype": "text/x-python",
   "name": "python",
   "nbconvert_exporter": "python",
   "pygments_lexer": "ipython3",
   "version": "3.7.3"
  }
 },
 "nbformat": 4,
 "nbformat_minor": 2
}
