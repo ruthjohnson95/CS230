{
 "cells": [
  {
   "cell_type": "markdown",
   "metadata": {},
   "source": [
    "# Stat Analysis"
   ]
  },
  {
   "cell_type": "code",
   "execution_count": 1,
   "metadata": {},
   "outputs": [],
   "source": [
    "import pandas as pd\n",
    "import os\n",
    "import numpy as np \n",
    "import statsmodels.formula.api as smf\n",
    "import seaborn as sns \n",
    "import matplotlib.pyplot as plt \n",
    "import scipy.stats as st "
   ]
  },
  {
   "cell_type": "code",
   "execution_count": 2,
   "metadata": {},
   "outputs": [],
   "source": [
    "# read in combined dataframe\n",
    "combo_df = pd.read_csv(\"combined_df.txt\")\n",
    "\n",
    "# rename first column to name of benchmarks \n",
    "combo_df.rename(columns={'Unnamed: 0':'Benchmark'}, inplace=True)\n",
    "\n",
    "# drop informational messages\n",
    "combo_df = combo_df.drop(['I'], axis=1)\n",
    "\n",
    "# drop fatal error messages\n",
    "combo_df = combo_df.drop(['F'], axis=1)\n",
    "\n",
    "# turn Nan to zero\n",
    "combo_df = combo_df.fillna(0)\n",
    "\n",
    "# print first few lines of dataframe \n",
    "combo_df.head()\n",
    "\n",
    "# combine high and medium severity counts into one category\n",
    "combo_df['BANDIT_MED_HIGH'] = combo_df['TOTAL_BANDIT'].subtract(combo_df['LOW_SEVERITY'])"
   ]
  },
  {
   "cell_type": "markdown",
   "metadata": {},
   "source": [
    "# Step 1: Overview of data\n",
    "- i) Distribution of Pylint types of errors\n",
    "- ii) Distribution of types of security vulnerabilities\n",
    "- iii) Distribution of security vulnerabilties by severity "
   ]
  },
  {
   "cell_type": "markdown",
   "metadata": {},
   "source": [
    "## i. Distribution of Pylint types of errors"
   ]
  },
  {
   "cell_type": "code",
   "execution_count": 3,
   "metadata": {},
   "outputs": [
    {
     "data": {
      "image/png": "[encoded data removed]",
      "text/plain": [
       "<Figure size 432x288 with 1 Axes>"
      ]
     },
     "metadata": {
      "needs_background": "light"
     },
     "output_type": "display_data"
    }
   ],
   "source": [
    "sum_col = combo_df.apply('sum')\n",
    "pylint_count = sum_col.filter(items=['I', 'R','C','W','E','F'])\n",
    "pylint_count_df = pd.DataFrame({'TYPE': pylint_count.index, 'COUNT': pylint_count})\n",
    "\n",
    "g = sns.barplot(x=\"TYPE\", y=\"COUNT\", data=pylint_count_df, palette='Set1')\n",
    "plt.title(\"Types of programatic/stylistic errors\")\n",
    "plt.show()\n",
    "plt.close()"
   ]
  },
  {
   "cell_type": "markdown",
   "metadata": {},
   "source": [
    "## ii) Distribution of types of security vulnerabilities"
   ]
  },
  {
   "cell_type": "code",
   "execution_count": 4,
   "metadata": {},
   "outputs": [],
   "source": [
    "# List of bandit tests from https://github.com/PyCQA/bandit\n",
    "test_ids = [\"B101\", \"B102\", \"B103\", \"B104\", \"B105\", \"B106\", \"B107\", \"B108\", \"B109\", \"B110\", \"B111\", \"B112\"]\n",
    "test_ids += [\"B201\"]\n",
    "test_ids += [\"B301\", \"B302\", \"B303\", \"B304\", \"B305\", \"B306\", \"B307\", \"B308\", \"B309\", \"B310\"]\n",
    "test_ids += [\"B311\", \"B312\", \"B313\", \"B314\", \"B315\", \"B316\", \"B317\", \"B318\", \"B319\", \"B320\"]\n",
    "test_ids += [\"B321\", \"B322\", \"B323\", \"B324\", \"B325\"]\n",
    "test_ids += [\"B401\", \"B402\", \"B403\", \"B404\", \"B405\", \"B406\", \"B407\", \"B408\", \"B409\", \"B410\", \"B411\", \"B412\", \"B413\"]\n",
    "test_ids += [\"B501\", \"B502\", \"B503\", \"B504\", \"B505\", \"B506\", \"B507\"]\n",
    "test_ids += [\"B601\", \"B602\", \"B603\", \"B604\", \"B605\", \"B606\", \"B607\", \"B608\", \"B609\", \"B610\", \"B611\"]\n",
    "test_ids += [\"B701\", \"B702\", \"B703\"]\n",
    "\n",
    "sum_col = combo_df.apply('sum')\n",
    "bandit_count = sum_col.filter(items=test_ids)\n",
    "bandit_count_df = pd.DataFrame({'TYPE': bandit_count.index, 'COUNT': bandit_count})\n",
    "\n",
    "#g = sns.barplot(x=\"TYPE\", y=\"COUNT\", data=bandit_count_df, palette='Set1')\n",
    "#plt.title(\"Types of security vulnerabilities\")"
   ]
  },
  {
   "cell_type": "markdown",
   "metadata": {},
   "source": [
    "## Top 10 types of security vulneratbilities"
   ]
  },
  {
   "cell_type": "code",
   "execution_count": 5,
   "metadata": {},
   "outputs": [
    {
     "data": {
      "text/plain": [
       "B101    53390\n",
       "B110     1074\n",
       "B603     1054\n",
       "B105      915\n",
       "B106      852\n",
       "B311      803\n",
       "B413      782\n",
       "B108      653\n",
       "B404      590\n",
       "B303      507\n",
       "dtype: object"
      ]
     },
     "execution_count": 5,
     "metadata": {},
     "output_type": "execute_result"
    }
   ],
   "source": [
    "sorted_bandit_count = bandit_count.sort_values(ascending=False)\n",
    "sorted_bandit_count[:10]\n",
    "\n",
    "# assert used\n",
    "# try_except_pass\n",
    "# subprocess_without_shell_equals_true\n",
    "# hardcoded_password_string\n",
    "# hardcoded_password_funcarg\n",
    "# random\n",
    "# import_pycrypto\n",
    "# hardcoded_tmp_directory\n",
    "# import_subprocess\n",
    "# md5"
   ]
  },
  {
   "cell_type": "code",
   "execution_count": 6,
   "metadata": {},
   "outputs": [
    {
     "name": "stdout",
     "output_type": "stream",
     "text": [
      "443          pycrypto-2.5\n",
      "29           Jinja2-2.7.1\n",
      "446       pyftpdlib-0.2.0\n",
      "473     python-jose-1.3.1\n",
      "437     pyXMLSecurity-0.8\n",
      "531             tmc-0.3.4\n",
      "444    pycryptodome-3.6.5\n",
      "58             Pyro4-4.71\n",
      "488           rauth-0.6.2\n",
      "112         bakercm-0.4.3\n",
      "Name: Benchmark, dtype: object\n"
     ]
    }
   ],
   "source": [
    "# which programs had most high severity issues\n",
    "high_severity_bandit_df = combo_df.sort_values(by='HIGH_SEVERITY', ascending=False)\n",
    "#print(high_severity_bandit_df['Benchmark'][:10])\n",
    "\n",
    "# top 10 normalized by benchmark size \n",
    "high_severity_bandit_df['HIGH_SEVERITY_NORM'] = high_severity_bandit_df['HIGH_SEVERITY'].divide(high_severity_bandit_df['BENCHMARK_SIZE'])\n",
    "high_severity_bandit_df = high_severity_bandit_df.sort_values(by='HIGH_SEVERITY_NORM', ascending=False)\n",
    "print(high_severity_bandit_df['Benchmark'][:10])\n",
    "\n",
    "# --> be careful using any types of security, crypto, networking-related libraries "
   ]
  },
  {
   "cell_type": "markdown",
   "metadata": {},
   "source": [
    "# iii) Distribution of security vulnerabilties by severity"
   ]
  },
  {
   "cell_type": "code",
   "execution_count": 7,
   "metadata": {},
   "outputs": [
    {
     "data": {
      "image/png": "[encoded data removed]",
      "text/plain": [
       "<Figure size 432x288 with 1 Axes>"
      ]
     },
     "metadata": {
      "needs_background": "light"
     },
     "output_type": "display_data"
    }
   ],
   "source": [
    "sum_col = combo_df.apply('sum')\n",
    "pylint_count = sum_col.filter(items=['LOW_SEVERITY', 'MED_SEVERITY', 'HIGH_SEVERITY'])\n",
    "pylint_count_df = pd.DataFrame({'TYPE': pylint_count.index, 'COUNT': pylint_count})\n",
    "\n",
    "g = sns.barplot(x=\"TYPE\", y=\"COUNT\", data=pylint_count_df, palette='Set1')\n",
    "plt.title(\"Types of programatic/stylistic errors\")\n",
    "plt.show()\n",
    "plt.close()"
   ]
  },
  {
   "cell_type": "markdown",
   "metadata": {},
   "source": [
    "# Step 2: Relationship between total errors and total vulnerabilities\n",
    "- i) vanilla linear regression\n",
    "- ii) multivariate regression by type of error\n",
    "- iii) regression by severity \n",
    "- iv) different types of severity driven by types of errors\n",
    "- v) looking into outliers"
   ]
  },
  {
   "cell_type": "markdown",
   "metadata": {},
   "source": [
    "### i) univariate relationship between total pylint errors and total bandit errors"
   ]
  },
  {
   "cell_type": "code",
   "execution_count": 8,
   "metadata": {},
   "outputs": [
    {
     "name": "stdout",
     "output_type": "stream",
     "text": [
      "r^2: 0.04609 (2.706e-07)\n",
      "correlation: 0.2147 (2.706e-07)\n"
     ]
    },
    {
     "data": {
      "image/png": "[encoded data removed]",
      "text/plain": [
       "<Figure size 432x288 with 1 Axes>"
      ]
     },
     "metadata": {
      "needs_background": "light"
     },
     "output_type": "display_data"
    }
   ],
   "source": [
    "slope, intercept, r_square, p_value, std_err = st.linregress(x=combo_df['TOTAL_PYLINT'].values, y=combo_df['TOTAL_BANDIT'].values)\n",
    "x = np.arange(1,150000)\n",
    "y = slope*x+intercept\n",
    "\n",
    "model = smf.ols('TOTAL_BANDIT ~ TOTAL_PYLINT', data=combo_df).fit()\n",
    "summary = model.summary()\n",
    "\n",
    "r_square = model.rsquared\n",
    "p_value = model.f_pvalue\n",
    "\n",
    "corr_coef, rho_pvalue = st.pearsonr(combo_df['TOTAL_PYLINT'].values, combo_df['TOTAL_BANDIT'].values)\n",
    "\n",
    "print(\"r^2: %.4g (%.4g)\" % (r_square, p_value))\n",
    "print(\"correlation: %.4g (%.4g)\" % (corr_coef, rho_pvalue))\n",
    "\n",
    "sns.scatterplot(x='TOTAL_PYLINT', y='TOTAL_BANDIT', data=combo_df, palette='Set1')\n",
    "plt.plot(x, y, linestyle='--', color='black')\n",
    "plt.ylim(-500.0)\n",
    "plt.xlim(0, 120000)\n",
    "plt.show()"
   ]
  },
  {
   "cell_type": "markdown",
   "metadata": {},
   "source": [
    "## ii) multivariate regression of total bandit errors by type of pylint error"
   ]
  },
  {
   "cell_type": "code",
   "execution_count": 10,
   "metadata": {},
   "outputs": [
    {
     "name": "stdout",
     "output_type": "stream",
     "text": [
      "                            OLS Regression Results                            \n",
      "==============================================================================\n",
      "Dep. Variable:           TOTAL_BANDIT   R-squared:                       0.235\n",
      "Model:                            OLS   Adj. R-squared:                  0.230\n",
      "Method:                 Least Squares   F-statistic:                     42.92\n",
      "Date:                Sat, 08 Jun 2019   Prob (F-statistic):           2.11e-31\n",
      "Time:                        23:10:59   Log-Likelihood:                -4351.5\n",
      "No. Observations:                 563   AIC:                             8713.\n",
      "Df Residuals:                     558   BIC:                             8735.\n",
      "Df Model:                           4                                         \n",
      "Covariance Type:            nonrobust                                         \n",
      "==============================================================================\n",
      "                 coef    std err          t      P>|t|      [0.025      0.975]\n",
      "------------------------------------------------------------------------------\n",
      "Intercept     48.2383     24.686      1.954      0.051      -0.250      96.727\n",
      "R             -0.1803      0.065     -2.792      0.005      -0.307      -0.053\n",
      "C              0.0036      0.003      1.083      0.279      -0.003       0.010\n",
      "W             -0.0178      0.012     -1.509      0.132      -0.041       0.005\n",
      "E              0.4523      0.042     10.867      0.000       0.371       0.534\n",
      "==============================================================================\n",
      "Omnibus:                      837.065   Durbin-Watson:                   2.373\n",
      "Prob(Omnibus):                  0.000   Jarque-Bera (JB):           334042.989\n",
      "Skew:                           7.901   Prob(JB):                         0.00\n",
      "Kurtosis:                     121.280   Cond. No.                     9.94e+03\n",
      "==============================================================================\n",
      "\n",
      "Warnings:\n",
      "[1] Standard Errors assume that the covariance matrix of the errors is correctly specified.\n",
      "[2] The condition number is large, 9.94e+03. This might indicate that there are\n",
      "strong multicollinearity or other numerical problems.\n",
      "r^2: 0.2353 (2.106e-31)\n",
      "Intercept    5.119093e-02\n",
      "R            5.421441e-03\n",
      "C            2.791794e-01\n",
      "W            1.319627e-01\n",
      "E            4.405304e-25\n",
      "dtype: float64\n"
     ]
    }
   ],
   "source": [
    "model = smf.ols('TOTAL_BANDIT ~ R + C + W + E', data=combo_df).fit()\n",
    "summary = model.summary()\n",
    "print(summary)\n",
    "r_square = model.rsquared\n",
    "p_value = model.f_pvalue\n",
    "t_pvalues = model.pvalues\n",
    "\n",
    "print(\"r^2: %.4g (%.4g)\" % (r_square, p_value))\n",
    "print(t_pvalues)"
   ]
  },
  {
   "cell_type": "markdown",
   "metadata": {},
   "source": [
    "## iii) univariate analysis of total pylint errors versus high, med, low severity issues"
   ]
  },
  {
   "cell_type": "code",
   "execution_count": 13,
   "metadata": {},
   "outputs": [
    {
     "data": {
      "image/png": "[encoded data removed]",
      "text/plain": [
       "<Figure size 432x288 with 1 Axes>"
      ]
     },
     "metadata": {
      "needs_background": "light"
     },
     "output_type": "display_data"
    },
    {
     "name": "stdout",
     "output_type": "stream",
     "text": [
      "r^2: 0.00237 (0.2488)\n",
      "correlation: 0.04868 (0.2488)\n"
     ]
    },
    {
     "data": {
      "image/png": "[encoded data removed]",
      "text/plain": [
       "<Figure size 432x288 with 1 Axes>"
      ]
     },
     "metadata": {
      "needs_background": "light"
     },
     "output_type": "display_data"
    },
    {
     "name": "stdout",
     "output_type": "stream",
     "text": [
      "r^2: 0.05975 (4.197e-09)\n",
      "correlation: 0.2444 (4.197e-09)\n"
     ]
    },
    {
     "data": {
      "image/png": "[encoded data removed]",
      "text/plain": [
       "<Figure size 432x288 with 1 Axes>"
      ]
     },
     "metadata": {
      "needs_background": "light"
     },
     "output_type": "display_data"
    },
    {
     "name": "stdout",
     "output_type": "stream",
     "text": [
      "r^2: 0.04247 (8.133e-07)\n",
      "correlation: 0.2061 (8.133e-07)\n"
     ]
    }
   ],
   "source": [
    "model = smf.ols('HIGH_SEVERITY ~ TOTAL_PYLINT', data=combo_df).fit()\n",
    "summary = model.summary()\n",
    "#print(summary)\n",
    "r_square = model.rsquared\n",
    "p_value = model.f_pvalue\n",
    "t_pvalues = model.pvalues\n",
    "sns.scatterplot(x='TOTAL_PYLINT', y='HIGH_SEVERITY', data=combo_df, palette='Set1')\n",
    "plt.title(\"High Severity\")\n",
    "plt.show()\n",
    "plt.close()\n",
    "corr_coef, rho_pvalue = st.pearsonr(combo_df['TOTAL_PYLINT'].values, combo_df['HIGH_SEVERITY'].values)\n",
    "\n",
    "print(\"r^2: %.4g (%.4g)\" % (r_square, p_value))\n",
    "print(\"correlation: %.4g (%.4g)\" % (corr_coef, rho_pvalue))\n",
    "\n",
    "model = smf.ols('MED_SEVERITY ~ TOTAL_PYLINT', data=combo_df).fit()\n",
    "summary = model.summary()\n",
    "#print(summary)\n",
    "r_square = model.rsquared\n",
    "p_value = model.f_pvalue\n",
    "t_pvalues = model.pvalues\n",
    "sns.scatterplot(x='TOTAL_PYLINT', y='MED_SEVERITY', data=combo_df, palette='Set1')\n",
    "plt.title(\"Medium Severity\")\n",
    "plt.show()\n",
    "plt.close()\n",
    "\n",
    "corr_coef, rho_pvalue = st.pearsonr(combo_df['TOTAL_PYLINT'].values, combo_df['MED_SEVERITY'].values)\n",
    "print(\"r^2: %.4g (%.4g)\" % (r_square, p_value))\n",
    "print(\"correlation: %.4g (%.4g)\" % (corr_coef, rho_pvalue))\n",
    "\n",
    "model = smf.ols('LOW_SEVERITY ~ TOTAL_PYLINT', data=combo_df).fit()\n",
    "summary = model.summary()\n",
    "#print(summary)\n",
    "r_square = model.rsquared\n",
    "p_value = model.f_pvalue\n",
    "t_pvalues = model.pvalues\n",
    "sns.scatterplot(x='TOTAL_PYLINT', y='LOW_SEVERITY', data=combo_df, palette='Set1')\n",
    "plt.title(\"Low Severity\")\n",
    "plt.show()\n",
    "plt.close()\n",
    "corr_coef, rho_pvalue = st.pearsonr(combo_df['TOTAL_PYLINT'].values, combo_df['LOW_SEVERITY'].values)\n",
    "print(\"r^2: %.4g (%.4g)\" % (r_square, p_value))\n",
    "print(\"correlation: %.4g (%.4g)\" % (corr_coef, rho_pvalue))\n",
    "\n"
   ]
  },
  {
   "cell_type": "markdown",
   "metadata": {},
   "source": [
    "## iv) severity of vulnerabilities driven by different types of pylint errors "
   ]
  },
  {
   "cell_type": "code",
   "execution_count": 12,
   "metadata": {},
   "outputs": [
    {
     "name": "stdout",
     "output_type": "stream",
     "text": [
      "                            OLS Regression Results                            \n",
      "==============================================================================\n",
      "Dep. Variable:          HIGH_SEVERITY   R-squared:                       0.003\n",
      "Model:                            OLS   Adj. R-squared:                 -0.004\n",
      "Method:                 Least Squares   F-statistic:                    0.4758\n",
      "Date:                Sat, 08 Jun 2019   Prob (F-statistic):              0.753\n",
      "Time:                        23:12:49   Log-Likelihood:                -2575.7\n",
      "No. Observations:                 563   AIC:                             5161.\n",
      "Df Residuals:                     558   BIC:                             5183.\n",
      "Df Model:                           4                                         \n",
      "Covariance Type:            nonrobust                                         \n",
      "==============================================================================\n",
      "                 coef    std err          t      P>|t|      [0.025      0.975]\n",
      "------------------------------------------------------------------------------\n",
      "Intercept      2.2951      1.054      2.179      0.030       0.226       4.364\n",
      "R              0.0006      0.003      0.204      0.838      -0.005       0.006\n",
      "C           3.347e-05      0.000      0.239      0.811      -0.000       0.000\n",
      "W              0.0002      0.001      0.302      0.763      -0.001       0.001\n",
      "E              0.0007      0.002      0.404      0.687      -0.003       0.004\n",
      "==============================================================================\n",
      "Omnibus:                     1196.232   Durbin-Watson:                   1.272\n",
      "Prob(Omnibus):                  0.000   Jarque-Bera (JB):          2085568.294\n",
      "Skew:                          16.289   Prob(JB):                         0.00\n",
      "Kurtosis:                     299.385   Cond. No.                     9.94e+03\n",
      "==============================================================================\n",
      "\n",
      "Warnings:\n",
      "[1] Standard Errors assume that the covariance matrix of the errors is correctly specified.\n",
      "[2] The condition number is large, 9.94e+03. This might indicate that there are\n",
      "strong multicollinearity or other numerical problems.\n",
      "r^2: 0.003399 (0.7535)\n",
      "Intercept    0.029782\n",
      "R            0.838400\n",
      "C            0.811238\n",
      "W            0.762588\n",
      "E            0.686718\n",
      "dtype: float64\n",
      "                            OLS Regression Results                            \n",
      "==============================================================================\n",
      "Dep. Variable:           MED_SEVERITY   R-squared:                       0.125\n",
      "Model:                            OLS   Adj. R-squared:                  0.119\n",
      "Method:                 Least Squares   F-statistic:                     19.93\n",
      "Date:                Sat, 08 Jun 2019   Prob (F-statistic):           2.37e-15\n",
      "Time:                        23:12:49   Log-Likelihood:                -2507.7\n",
      "No. Observations:                 563   AIC:                             5025.\n",
      "Df Residuals:                     558   BIC:                             5047.\n",
      "Df Model:                           4                                         \n",
      "Covariance Type:            nonrobust                                         \n",
      "==============================================================================\n",
      "                 coef    std err          t      P>|t|      [0.025      0.975]\n",
      "------------------------------------------------------------------------------\n",
      "Intercept      4.1799      0.934      4.477      0.000       2.346       6.014\n",
      "R              0.0126      0.002      5.152      0.000       0.008       0.017\n",
      "C          -2.323e-05      0.000     -0.187      0.852      -0.000       0.000\n",
      "W             -0.0004      0.000     -0.903      0.367      -0.001       0.000\n",
      "E              0.0003      0.002      0.171      0.864      -0.003       0.003\n",
      "==============================================================================\n",
      "Omnibus:                      850.324   Durbin-Watson:                   1.990\n",
      "Prob(Omnibus):                  0.000   Jarque-Bera (JB):           233557.023\n",
      "Skew:                           8.364   Prob(JB):                         0.00\n",
      "Kurtosis:                     101.369   Cond. No.                     9.94e+03\n",
      "==============================================================================\n",
      "\n",
      "Warnings:\n",
      "[1] Standard Errors assume that the covariance matrix of the errors is correctly specified.\n",
      "[2] The condition number is large, 9.94e+03. This might indicate that there are\n",
      "strong multicollinearity or other numerical problems.\n",
      "r^2: 0.125 (2.373e-15)\n",
      "Intercept    9.194119e-06\n",
      "R            3.581273e-07\n",
      "C            8.516059e-01\n",
      "W            3.667676e-01\n",
      "E            8.638968e-01\n",
      "dtype: float64\n",
      "                            OLS Regression Results                            \n",
      "==============================================================================\n",
      "Dep. Variable:           LOW_SEVERITY   R-squared:                       0.231\n",
      "Model:                            OLS   Adj. R-squared:                  0.226\n",
      "Method:                 Least Squares   F-statistic:                     41.93\n",
      "Date:                Sat, 08 Jun 2019   Prob (F-statistic):           9.41e-31\n",
      "Time:                        23:12:49   Log-Likelihood:                -4347.9\n",
      "No. Observations:                 563   AIC:                             8706.\n",
      "Df Residuals:                     558   BIC:                             8727.\n",
      "Df Model:                           4                                         \n",
      "Covariance Type:            nonrobust                                         \n",
      "==============================================================================\n",
      "                 coef    std err          t      P>|t|      [0.025      0.975]\n",
      "------------------------------------------------------------------------------\n",
      "Intercept     41.7633     24.530      1.703      0.089      -6.419      89.945\n",
      "R             -0.1934      0.064     -3.014      0.003      -0.319      -0.067\n",
      "C              0.0035      0.003      1.087      0.278      -0.003       0.010\n",
      "W             -0.0176      0.012     -1.497      0.135      -0.041       0.005\n",
      "E              0.4513      0.041     10.912      0.000       0.370       0.533\n",
      "==============================================================================\n",
      "Omnibus:                      846.532   Durbin-Watson:                   2.372\n",
      "Prob(Omnibus):                  0.000   Jarque-Bera (JB):           348672.144\n",
      "Skew:                           8.072   Prob(JB):                         0.00\n",
      "Kurtosis:                     123.842   Cond. No.                     9.94e+03\n",
      "==============================================================================\n",
      "\n",
      "Warnings:\n",
      "[1] Standard Errors assume that the covariance matrix of the errors is correctly specified.\n",
      "[2] The condition number is large, 9.94e+03. This might indicate that there are\n",
      "strong multicollinearity or other numerical problems.\n",
      "r^2: 0.2311 (9.411e-31)\n",
      "Intercept    8.920711e-02\n",
      "R            2.691581e-03\n",
      "C            2.775148e-01\n",
      "W            1.350041e-01\n",
      "E            2.921236e-25\n",
      "dtype: float64\n"
     ]
    }
   ],
   "source": [
    "model = smf.ols('HIGH_SEVERITY ~ R + C + W + E', data=combo_df).fit()\n",
    "summary = model.summary()\n",
    "print(summary)\n",
    "r_square = model.rsquared\n",
    "p_value = model.f_pvalue\n",
    "t_pvalues = model.pvalues\n",
    "print(\"r^2: %.4g (%.4g)\" % (r_square, p_value))\n",
    "print(t_pvalues)\n",
    "\n",
    "model = smf.ols('MED_SEVERITY ~  R + C + W + E ', data=combo_df).fit()\n",
    "summary = model.summary()\n",
    "print(summary)\n",
    "r_square = model.rsquared\n",
    "p_value = model.f_pvalue\n",
    "t_pvalues = model.pvalues\n",
    "print(\"r^2: %.4g (%.4g)\" % (r_square, p_value))\n",
    "print(t_pvalues)\n",
    "\n",
    "model = smf.ols('LOW_SEVERITY ~ R + C + W + E ', data=combo_df).fit()\n",
    "summary = model.summary()\n",
    "print(summary)\n",
    "r_square = model.rsquared\n",
    "p_value = model.f_pvalue\n",
    "t_pvalues = model.pvalues\n",
    "print(\"r^2: %.4g (%.4g)\" % (r_square, p_value))\n",
    "print(t_pvalues)\n"
   ]
  },
  {
   "cell_type": "markdown",
   "metadata": {},
   "source": [
    "## v) take into account benchmark size"
   ]
  },
  {
   "cell_type": "code",
   "execution_count": 16,
   "metadata": {},
   "outputs": [
    {
     "name": "stdout",
     "output_type": "stream",
     "text": [
      "                            OLS Regression Results                            \n",
      "==============================================================================\n",
      "Dep. Variable:               RESIDUAL   R-squared:                       0.193\n",
      "Model:                            OLS   Adj. R-squared:                  0.187\n",
      "Method:                 Least Squares   F-statistic:                     33.31\n",
      "Date:                Sat, 08 Jun 2019   Prob (F-statistic):           6.16e-25\n",
      "Time:                        23:16:19   Log-Likelihood:                -4334.9\n",
      "No. Observations:                 563   AIC:                             8680.\n",
      "Df Residuals:                     558   BIC:                             8702.\n",
      "Df Model:                           4                                         \n",
      "Covariance Type:            nonrobust                                         \n",
      "==============================================================================\n",
      "                 coef    std err          t      P>|t|      [0.025      0.975]\n",
      "------------------------------------------------------------------------------\n",
      "Intercept  -1.421e-14     22.615  -6.28e-16      1.000     -44.420      44.420\n",
      "R_RESIDUAL    -0.2688      0.065     -4.166      0.000      -0.396      -0.142\n",
      "C_RESIDUAL     0.0005      0.003      0.148      0.882      -0.006       0.007\n",
      "W_RESIDUAL    -0.0103      0.012     -0.894      0.372      -0.033       0.012\n",
      "E_RESIDUAL     0.4410      0.040     10.899      0.000       0.362       0.521\n",
      "==============================================================================\n",
      "Omnibus:                      818.633   Durbin-Watson:                   2.342\n",
      "Prob(Omnibus):                  0.000   Jarque-Bera (JB):           313827.494\n",
      "Skew:                           7.564   Prob(JB):                         0.00\n",
      "Kurtosis:                     117.670   Cond. No.                     8.32e+03\n",
      "==============================================================================\n",
      "\n",
      "Warnings:\n",
      "[1] Standard Errors assume that the covariance matrix of the errors is correctly specified.\n",
      "[2] The condition number is large, 8.32e+03. This might indicate that there are\n",
      "strong multicollinearity or other numerical problems.\n",
      "r^2: 0.1928 (6.161e-25)\n",
      "Intercept     1.000000e+00\n",
      "R_RESIDUAL    3.592908e-05\n",
      "C_RESIDUAL    8.820643e-01\n",
      "W_RESIDUAL    3.715219e-01\n",
      "E_RESIDUAL    3.304588e-25\n",
      "dtype: float64\n"
     ]
    }
   ],
   "source": [
    "results = smf.ols('TOTAL_BANDIT ~ BENCHMARK_SIZE', data=combo_df).fit()\n",
    "Y_pred = results.predict(combo_df['BENCHMARK_SIZE'])\n",
    "\n",
    "residual = combo_df['TOTAL_BANDIT'].values - Y_pred\n",
    "combo_df['RESIDUAL'] = residual\n",
    "\n",
    "results = smf.ols('R ~ BENCHMARK_SIZE', data=combo_df).fit()\n",
    "Y_pred = results.predict(combo_df['BENCHMARK_SIZE'])\n",
    "R_residual = combo_df['R'].values - Y_pred\n",
    "combo_df['R_RESIDUAL'] = R_residual\n",
    "\n",
    "results = smf.ols('C ~ BENCHMARK_SIZE', data=combo_df).fit()\n",
    "Y_pred = results.predict(combo_df['BENCHMARK_SIZE'])\n",
    "C_residual = combo_df['C'].values - Y_pred\n",
    "combo_df['C_RESIDUAL'] = C_residual\n",
    "\n",
    "results = smf.ols('W ~ BENCHMARK_SIZE', data=combo_df).fit()\n",
    "Y_pred = results.predict(combo_df['BENCHMARK_SIZE'])\n",
    "W_residual = combo_df['W'].values - Y_pred\n",
    "combo_df['W_RESIDUAL'] = W_residual\n",
    "\n",
    "results = smf.ols('E ~ BENCHMARK_SIZE', data=combo_df).fit()\n",
    "Y_pred = results.predict(combo_df['BENCHMARK_SIZE'])\n",
    "E_residual = combo_df['E'].values - Y_pred\n",
    "combo_df['E_RESIDUAL'] = E_residual\n",
    "\n",
    "#model = smf.ols('TOTAL_BANDIT ~ R + C + W + E ', data=combo_df).fit()\n",
    "#model = smf.ols('TOTAL_BANDIT ~ R + C + W + E + BENCHMARK_SIZE', data=combo_df).fit()\n",
    "model = smf.ols('RESIDUAL ~ R_RESIDUAL + C_RESIDUAL + W_RESIDUAL + E_RESIDUAL ', data=combo_df).fit()\n",
    "summary = model.summary()\n",
    "print(summary)\n",
    "r_square = model.rsquared\n",
    "p_value = model.f_pvalue\n",
    "t_pvalues = model.pvalues\n",
    "\n",
    "print(\"r^2: %.4g (%.4g)\" % (r_square, p_value))\n",
    "print(t_pvalues)"
   ]
  },
  {
   "cell_type": "code",
   "execution_count": null,
   "metadata": {},
   "outputs": [],
   "source": []
  }
 ],
 "metadata": {
  "kernelspec": {
   "display_name": "Python 3",
   "language": "python",
   "name": "python3"
  },
  "language_info": {
   "codemirror_mode": {
    "name": "ipython",
    "version": 3
   },
   "file_extension": ".py",
   "mimetype": "text/x-python",
   "name": "python",
   "nbconvert_exporter": "python",
   "pygments_lexer": "ipython3",
   "version": "3.7.3"
  }
 },
 "nbformat": 4,
 "nbformat_minor": 2
}
